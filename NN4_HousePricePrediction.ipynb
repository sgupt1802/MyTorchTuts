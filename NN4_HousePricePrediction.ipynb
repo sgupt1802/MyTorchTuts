{
  "nbformat": 4,
  "nbformat_minor": 0,
  "metadata": {
    "colab": {
      "provenance": []
    },
    "kernelspec": {
      "name": "python3",
      "display_name": "Python 3"
    },
    "language_info": {
      "name": "python"
    }
  },
  "cells": [
    {
      "cell_type": "code",
      "execution_count": null,
      "metadata": {
        "id": "TscaZHq5mgLP"
      },
      "outputs": [],
      "source": [
        "import pandas as pd\n",
        "df=pd.read_csv('https://raw.githubusercontent.com/krishnaik06/Pytorch-Tutorial/master/houseprice.csv',usecols=[\"SalePrice\", \"MSSubClass\", \"MSZoning\", \"LotFrontage\", \"LotArea\",\n",
        "                                         \"Street\", \"YearBuilt\", \"LotShape\", \"1stFlrSF\", \"2ndFlrSF\"]).dropna()"
      ]
    },
    {
      "cell_type": "code",
      "source": [
        "df.shape"
      ],
      "metadata": {
        "colab": {
          "base_uri": "https://localhost:8080/"
        },
        "id": "6auntW5Aobqs",
        "outputId": "f0265af1-4275-4c2b-9e79-c039e11f498d"
      },
      "execution_count": null,
      "outputs": [
        {
          "output_type": "execute_result",
          "data": {
            "text/plain": [
              "(1201, 10)"
            ]
          },
          "metadata": {},
          "execution_count": 2
        }
      ]
    },
    {
      "cell_type": "code",
      "source": [
        "df.head()"
      ],
      "metadata": {
        "colab": {
          "base_uri": "https://localhost:8080/",
          "height": 206
        },
        "id": "-R5lHb8Im17d",
        "outputId": "5bab260b-4263-4d7f-e102-4533d0725292"
      },
      "execution_count": null,
      "outputs": [
        {
          "output_type": "execute_result",
          "data": {
            "text/plain": [
              "   MSSubClass MSZoning  LotFrontage  LotArea Street LotShape  YearBuilt  \\\n",
              "0          60       RL         65.0     8450   Pave      Reg       2003   \n",
              "1          20       RL         80.0     9600   Pave      Reg       1976   \n",
              "2          60       RL         68.0    11250   Pave      IR1       2001   \n",
              "3          70       RL         60.0     9550   Pave      IR1       1915   \n",
              "4          60       RL         84.0    14260   Pave      IR1       2000   \n",
              "\n",
              "   1stFlrSF  2ndFlrSF  SalePrice  \n",
              "0       856       854     208500  \n",
              "1      1262         0     181500  \n",
              "2       920       866     223500  \n",
              "3       961       756     140000  \n",
              "4      1145      1053     250000  "
            ],
            "text/html": [
              "\n",
              "  <div id=\"df-aaeabab9-ac71-4af8-86e3-29ef5918620d\" class=\"colab-df-container\">\n",
              "    <div>\n",
              "<style scoped>\n",
              "    .dataframe tbody tr th:only-of-type {\n",
              "        vertical-align: middle;\n",
              "    }\n",
              "\n",
              "    .dataframe tbody tr th {\n",
              "        vertical-align: top;\n",
              "    }\n",
              "\n",
              "    .dataframe thead th {\n",
              "        text-align: right;\n",
              "    }\n",
              "</style>\n",
              "<table border=\"1\" class=\"dataframe\">\n",
              "  <thead>\n",
              "    <tr style=\"text-align: right;\">\n",
              "      <th></th>\n",
              "      <th>MSSubClass</th>\n",
              "      <th>MSZoning</th>\n",
              "      <th>LotFrontage</th>\n",
              "      <th>LotArea</th>\n",
              "      <th>Street</th>\n",
              "      <th>LotShape</th>\n",
              "      <th>YearBuilt</th>\n",
              "      <th>1stFlrSF</th>\n",
              "      <th>2ndFlrSF</th>\n",
              "      <th>SalePrice</th>\n",
              "    </tr>\n",
              "  </thead>\n",
              "  <tbody>\n",
              "    <tr>\n",
              "      <th>0</th>\n",
              "      <td>60</td>\n",
              "      <td>RL</td>\n",
              "      <td>65.0</td>\n",
              "      <td>8450</td>\n",
              "      <td>Pave</td>\n",
              "      <td>Reg</td>\n",
              "      <td>2003</td>\n",
              "      <td>856</td>\n",
              "      <td>854</td>\n",
              "      <td>208500</td>\n",
              "    </tr>\n",
              "    <tr>\n",
              "      <th>1</th>\n",
              "      <td>20</td>\n",
              "      <td>RL</td>\n",
              "      <td>80.0</td>\n",
              "      <td>9600</td>\n",
              "      <td>Pave</td>\n",
              "      <td>Reg</td>\n",
              "      <td>1976</td>\n",
              "      <td>1262</td>\n",
              "      <td>0</td>\n",
              "      <td>181500</td>\n",
              "    </tr>\n",
              "    <tr>\n",
              "      <th>2</th>\n",
              "      <td>60</td>\n",
              "      <td>RL</td>\n",
              "      <td>68.0</td>\n",
              "      <td>11250</td>\n",
              "      <td>Pave</td>\n",
              "      <td>IR1</td>\n",
              "      <td>2001</td>\n",
              "      <td>920</td>\n",
              "      <td>866</td>\n",
              "      <td>223500</td>\n",
              "    </tr>\n",
              "    <tr>\n",
              "      <th>3</th>\n",
              "      <td>70</td>\n",
              "      <td>RL</td>\n",
              "      <td>60.0</td>\n",
              "      <td>9550</td>\n",
              "      <td>Pave</td>\n",
              "      <td>IR1</td>\n",
              "      <td>1915</td>\n",
              "      <td>961</td>\n",
              "      <td>756</td>\n",
              "      <td>140000</td>\n",
              "    </tr>\n",
              "    <tr>\n",
              "      <th>4</th>\n",
              "      <td>60</td>\n",
              "      <td>RL</td>\n",
              "      <td>84.0</td>\n",
              "      <td>14260</td>\n",
              "      <td>Pave</td>\n",
              "      <td>IR1</td>\n",
              "      <td>2000</td>\n",
              "      <td>1145</td>\n",
              "      <td>1053</td>\n",
              "      <td>250000</td>\n",
              "    </tr>\n",
              "  </tbody>\n",
              "</table>\n",
              "</div>\n",
              "    <div class=\"colab-df-buttons\">\n",
              "\n",
              "  <div class=\"colab-df-container\">\n",
              "    <button class=\"colab-df-convert\" onclick=\"convertToInteractive('df-aaeabab9-ac71-4af8-86e3-29ef5918620d')\"\n",
              "            title=\"Convert this dataframe to an interactive table.\"\n",
              "            style=\"display:none;\">\n",
              "\n",
              "  <svg xmlns=\"http://www.w3.org/2000/svg\" height=\"24px\" viewBox=\"0 -960 960 960\">\n",
              "    <path d=\"M120-120v-720h720v720H120Zm60-500h600v-160H180v160Zm220 220h160v-160H400v160Zm0 220h160v-160H400v160ZM180-400h160v-160H180v160Zm440 0h160v-160H620v160ZM180-180h160v-160H180v160Zm440 0h160v-160H620v160Z\"/>\n",
              "  </svg>\n",
              "    </button>\n",
              "\n",
              "  <style>\n",
              "    .colab-df-container {\n",
              "      display:flex;\n",
              "      gap: 12px;\n",
              "    }\n",
              "\n",
              "    .colab-df-convert {\n",
              "      background-color: #E8F0FE;\n",
              "      border: none;\n",
              "      border-radius: 50%;\n",
              "      cursor: pointer;\n",
              "      display: none;\n",
              "      fill: #1967D2;\n",
              "      height: 32px;\n",
              "      padding: 0 0 0 0;\n",
              "      width: 32px;\n",
              "    }\n",
              "\n",
              "    .colab-df-convert:hover {\n",
              "      background-color: #E2EBFA;\n",
              "      box-shadow: 0px 1px 2px rgba(60, 64, 67, 0.3), 0px 1px 3px 1px rgba(60, 64, 67, 0.15);\n",
              "      fill: #174EA6;\n",
              "    }\n",
              "\n",
              "    .colab-df-buttons div {\n",
              "      margin-bottom: 4px;\n",
              "    }\n",
              "\n",
              "    [theme=dark] .colab-df-convert {\n",
              "      background-color: #3B4455;\n",
              "      fill: #D2E3FC;\n",
              "    }\n",
              "\n",
              "    [theme=dark] .colab-df-convert:hover {\n",
              "      background-color: #434B5C;\n",
              "      box-shadow: 0px 1px 3px 1px rgba(0, 0, 0, 0.15);\n",
              "      filter: drop-shadow(0px 1px 2px rgba(0, 0, 0, 0.3));\n",
              "      fill: #FFFFFF;\n",
              "    }\n",
              "  </style>\n",
              "\n",
              "    <script>\n",
              "      const buttonEl =\n",
              "        document.querySelector('#df-aaeabab9-ac71-4af8-86e3-29ef5918620d button.colab-df-convert');\n",
              "      buttonEl.style.display =\n",
              "        google.colab.kernel.accessAllowed ? 'block' : 'none';\n",
              "\n",
              "      async function convertToInteractive(key) {\n",
              "        const element = document.querySelector('#df-aaeabab9-ac71-4af8-86e3-29ef5918620d');\n",
              "        const dataTable =\n",
              "          await google.colab.kernel.invokeFunction('convertToInteractive',\n",
              "                                                    [key], {});\n",
              "        if (!dataTable) return;\n",
              "\n",
              "        const docLinkHtml = 'Like what you see? Visit the ' +\n",
              "          '<a target=\"_blank\" href=https://colab.research.google.com/notebooks/data_table.ipynb>data table notebook</a>'\n",
              "          + ' to learn more about interactive tables.';\n",
              "        element.innerHTML = '';\n",
              "        dataTable['output_type'] = 'display_data';\n",
              "        await google.colab.output.renderOutput(dataTable, element);\n",
              "        const docLink = document.createElement('div');\n",
              "        docLink.innerHTML = docLinkHtml;\n",
              "        element.appendChild(docLink);\n",
              "      }\n",
              "    </script>\n",
              "  </div>\n",
              "\n",
              "\n",
              "<div id=\"df-5c0da918-e9b6-4205-aa06-4c51fad69620\">\n",
              "  <button class=\"colab-df-quickchart\" onclick=\"quickchart('df-5c0da918-e9b6-4205-aa06-4c51fad69620')\"\n",
              "            title=\"Suggest charts\"\n",
              "            style=\"display:none;\">\n",
              "\n",
              "<svg xmlns=\"http://www.w3.org/2000/svg\" height=\"24px\"viewBox=\"0 0 24 24\"\n",
              "     width=\"24px\">\n",
              "    <g>\n",
              "        <path d=\"M19 3H5c-1.1 0-2 .9-2 2v14c0 1.1.9 2 2 2h14c1.1 0 2-.9 2-2V5c0-1.1-.9-2-2-2zM9 17H7v-7h2v7zm4 0h-2V7h2v10zm4 0h-2v-4h2v4z\"/>\n",
              "    </g>\n",
              "</svg>\n",
              "  </button>\n",
              "\n",
              "<style>\n",
              "  .colab-df-quickchart {\n",
              "      --bg-color: #E8F0FE;\n",
              "      --fill-color: #1967D2;\n",
              "      --hover-bg-color: #E2EBFA;\n",
              "      --hover-fill-color: #174EA6;\n",
              "      --disabled-fill-color: #AAA;\n",
              "      --disabled-bg-color: #DDD;\n",
              "  }\n",
              "\n",
              "  [theme=dark] .colab-df-quickchart {\n",
              "      --bg-color: #3B4455;\n",
              "      --fill-color: #D2E3FC;\n",
              "      --hover-bg-color: #434B5C;\n",
              "      --hover-fill-color: #FFFFFF;\n",
              "      --disabled-bg-color: #3B4455;\n",
              "      --disabled-fill-color: #666;\n",
              "  }\n",
              "\n",
              "  .colab-df-quickchart {\n",
              "    background-color: var(--bg-color);\n",
              "    border: none;\n",
              "    border-radius: 50%;\n",
              "    cursor: pointer;\n",
              "    display: none;\n",
              "    fill: var(--fill-color);\n",
              "    height: 32px;\n",
              "    padding: 0;\n",
              "    width: 32px;\n",
              "  }\n",
              "\n",
              "  .colab-df-quickchart:hover {\n",
              "    background-color: var(--hover-bg-color);\n",
              "    box-shadow: 0 1px 2px rgba(60, 64, 67, 0.3), 0 1px 3px 1px rgba(60, 64, 67, 0.15);\n",
              "    fill: var(--button-hover-fill-color);\n",
              "  }\n",
              "\n",
              "  .colab-df-quickchart-complete:disabled,\n",
              "  .colab-df-quickchart-complete:disabled:hover {\n",
              "    background-color: var(--disabled-bg-color);\n",
              "    fill: var(--disabled-fill-color);\n",
              "    box-shadow: none;\n",
              "  }\n",
              "\n",
              "  .colab-df-spinner {\n",
              "    border: 2px solid var(--fill-color);\n",
              "    border-color: transparent;\n",
              "    border-bottom-color: var(--fill-color);\n",
              "    animation:\n",
              "      spin 1s steps(1) infinite;\n",
              "  }\n",
              "\n",
              "  @keyframes spin {\n",
              "    0% {\n",
              "      border-color: transparent;\n",
              "      border-bottom-color: var(--fill-color);\n",
              "      border-left-color: var(--fill-color);\n",
              "    }\n",
              "    20% {\n",
              "      border-color: transparent;\n",
              "      border-left-color: var(--fill-color);\n",
              "      border-top-color: var(--fill-color);\n",
              "    }\n",
              "    30% {\n",
              "      border-color: transparent;\n",
              "      border-left-color: var(--fill-color);\n",
              "      border-top-color: var(--fill-color);\n",
              "      border-right-color: var(--fill-color);\n",
              "    }\n",
              "    40% {\n",
              "      border-color: transparent;\n",
              "      border-right-color: var(--fill-color);\n",
              "      border-top-color: var(--fill-color);\n",
              "    }\n",
              "    60% {\n",
              "      border-color: transparent;\n",
              "      border-right-color: var(--fill-color);\n",
              "    }\n",
              "    80% {\n",
              "      border-color: transparent;\n",
              "      border-right-color: var(--fill-color);\n",
              "      border-bottom-color: var(--fill-color);\n",
              "    }\n",
              "    90% {\n",
              "      border-color: transparent;\n",
              "      border-bottom-color: var(--fill-color);\n",
              "    }\n",
              "  }\n",
              "</style>\n",
              "\n",
              "  <script>\n",
              "    async function quickchart(key) {\n",
              "      const quickchartButtonEl =\n",
              "        document.querySelector('#' + key + ' button');\n",
              "      quickchartButtonEl.disabled = true;  // To prevent multiple clicks.\n",
              "      quickchartButtonEl.classList.add('colab-df-spinner');\n",
              "      try {\n",
              "        const charts = await google.colab.kernel.invokeFunction(\n",
              "            'suggestCharts', [key], {});\n",
              "      } catch (error) {\n",
              "        console.error('Error during call to suggestCharts:', error);\n",
              "      }\n",
              "      quickchartButtonEl.classList.remove('colab-df-spinner');\n",
              "      quickchartButtonEl.classList.add('colab-df-quickchart-complete');\n",
              "    }\n",
              "    (() => {\n",
              "      let quickchartButtonEl =\n",
              "        document.querySelector('#df-5c0da918-e9b6-4205-aa06-4c51fad69620 button');\n",
              "      quickchartButtonEl.style.display =\n",
              "        google.colab.kernel.accessAllowed ? 'block' : 'none';\n",
              "    })();\n",
              "  </script>\n",
              "</div>\n",
              "\n",
              "    </div>\n",
              "  </div>\n"
            ],
            "application/vnd.google.colaboratory.intrinsic+json": {
              "type": "dataframe",
              "variable_name": "df",
              "summary": "{\n  \"name\": \"df\",\n  \"rows\": 1201,\n  \"fields\": [\n    {\n      \"column\": \"MSSubClass\",\n      \"properties\": {\n        \"dtype\": \"number\",\n        \"std\": 43,\n        \"min\": 20,\n        \"max\": 190,\n        \"num_unique_values\": 15,\n        \"samples\": [\n          80,\n          75,\n          60\n        ],\n        \"semantic_type\": \"\",\n        \"description\": \"\"\n      }\n    },\n    {\n      \"column\": \"MSZoning\",\n      \"properties\": {\n        \"dtype\": \"category\",\n        \"num_unique_values\": 5,\n        \"samples\": [\n          \"RM\",\n          \"RH\",\n          \"C (all)\"\n        ],\n        \"semantic_type\": \"\",\n        \"description\": \"\"\n      }\n    },\n    {\n      \"column\": \"LotFrontage\",\n      \"properties\": {\n        \"dtype\": \"number\",\n        \"std\": 24.284751774483208,\n        \"min\": 21.0,\n        \"max\": 313.0,\n        \"num_unique_values\": 110,\n        \"samples\": [\n          150.0,\n          91.0,\n          84.0\n        ],\n        \"semantic_type\": \"\",\n        \"description\": \"\"\n      }\n    },\n    {\n      \"column\": \"LotArea\",\n      \"properties\": {\n        \"dtype\": \"number\",\n        \"std\": 7924,\n        \"min\": 1300,\n        \"max\": 215245,\n        \"num_unique_values\": 869,\n        \"samples\": [\n          11198,\n          4500,\n          8544\n        ],\n        \"semantic_type\": \"\",\n        \"description\": \"\"\n      }\n    },\n    {\n      \"column\": \"Street\",\n      \"properties\": {\n        \"dtype\": \"category\",\n        \"num_unique_values\": 2,\n        \"samples\": [\n          \"Grvl\",\n          \"Pave\"\n        ],\n        \"semantic_type\": \"\",\n        \"description\": \"\"\n      }\n    },\n    {\n      \"column\": \"LotShape\",\n      \"properties\": {\n        \"dtype\": \"category\",\n        \"num_unique_values\": 4,\n        \"samples\": [\n          \"IR1\",\n          \"IR3\"\n        ],\n        \"semantic_type\": \"\",\n        \"description\": \"\"\n      }\n    },\n    {\n      \"column\": \"YearBuilt\",\n      \"properties\": {\n        \"dtype\": \"number\",\n        \"std\": 31,\n        \"min\": 1872,\n        \"max\": 2010,\n        \"num_unique_values\": 112,\n        \"samples\": [\n          1968,\n          1987\n        ],\n        \"semantic_type\": \"\",\n        \"description\": \"\"\n      }\n    },\n    {\n      \"column\": \"1stFlrSF\",\n      \"properties\": {\n        \"dtype\": \"number\",\n        \"std\": 386,\n        \"min\": 334,\n        \"max\": 4692,\n        \"num_unique_values\": 678,\n        \"samples\": [\n          1334,\n          2020\n        ],\n        \"semantic_type\": \"\",\n        \"description\": \"\"\n      }\n    },\n    {\n      \"column\": \"2ndFlrSF\",\n      \"properties\": {\n        \"dtype\": \"number\",\n        \"std\": 435,\n        \"min\": 0,\n        \"max\": 2065,\n        \"num_unique_values\": 368,\n        \"samples\": [\n          707,\n          639\n        ],\n        \"semantic_type\": \"\",\n        \"description\": \"\"\n      }\n    },\n    {\n      \"column\": \"SalePrice\",\n      \"properties\": {\n        \"dtype\": \"number\",\n        \"std\": 83389,\n        \"min\": 34900,\n        \"max\": 755000,\n        \"num_unique_values\": 597,\n        \"samples\": [\n          372402,\n          395192\n        ],\n        \"semantic_type\": \"\",\n        \"description\": \"\"\n      }\n    }\n  ]\n}"
            }
          },
          "metadata": {},
          "execution_count": 3
        }
      ]
    },
    {
      "cell_type": "code",
      "source": [
        "df.info()"
      ],
      "metadata": {
        "colab": {
          "base_uri": "https://localhost:8080/"
        },
        "id": "PDBXWDVroiMl",
        "outputId": "8e37a3fa-f28f-42d5-a727-450bd6287289"
      },
      "execution_count": null,
      "outputs": [
        {
          "output_type": "stream",
          "name": "stdout",
          "text": [
            "<class 'pandas.core.frame.DataFrame'>\n",
            "Index: 1201 entries, 0 to 1459\n",
            "Data columns (total 10 columns):\n",
            " #   Column       Non-Null Count  Dtype  \n",
            "---  ------       --------------  -----  \n",
            " 0   MSSubClass   1201 non-null   int64  \n",
            " 1   MSZoning     1201 non-null   object \n",
            " 2   LotFrontage  1201 non-null   float64\n",
            " 3   LotArea      1201 non-null   int64  \n",
            " 4   Street       1201 non-null   object \n",
            " 5   LotShape     1201 non-null   object \n",
            " 6   YearBuilt    1201 non-null   int64  \n",
            " 7   1stFlrSF     1201 non-null   int64  \n",
            " 8   2ndFlrSF     1201 non-null   int64  \n",
            " 9   SalePrice    1201 non-null   int64  \n",
            "dtypes: float64(1), int64(6), object(3)\n",
            "memory usage: 103.2+ KB\n"
          ]
        }
      ]
    },
    {
      "cell_type": "code",
      "source": [
        "for i in df.columns:   ### printing the unique values\n",
        "  print(\"Column name {} has {} unique values\".format(i,len(df[i].unique())))"
      ],
      "metadata": {
        "colab": {
          "base_uri": "https://localhost:8080/"
        },
        "id": "uhZm3t_uotFH",
        "outputId": "ebd30bf1-57af-43a4-935a-f57816c0bb80"
      },
      "execution_count": null,
      "outputs": [
        {
          "output_type": "stream",
          "name": "stdout",
          "text": [
            "Column name MSSubClass has 15 unique values\n",
            "Column name MSZoning has 5 unique values\n",
            "Column name LotFrontage has 110 unique values\n",
            "Column name LotArea has 869 unique values\n",
            "Column name Street has 2 unique values\n",
            "Column name LotShape has 4 unique values\n",
            "Column name YearBuilt has 112 unique values\n",
            "Column name 1stFlrSF has 678 unique values\n",
            "Column name 2ndFlrSF has 368 unique values\n",
            "Column name SalePrice has 597 unique values\n"
          ]
        }
      ]
    },
    {
      "cell_type": "code",
      "source": [
        "import datetime\n",
        "present=datetime.datetime.now().year\n",
        "print(present)"
      ],
      "metadata": {
        "colab": {
          "base_uri": "https://localhost:8080/"
        },
        "id": "NYjGgHxvqsLD",
        "outputId": "27ba6dd9-a7a9-417f-ebbf-36933185c8e2"
      },
      "execution_count": null,
      "outputs": [
        {
          "output_type": "stream",
          "name": "stdout",
          "text": [
            "2024\n"
          ]
        }
      ]
    },
    {
      "cell_type": "code",
      "source": [
        "df['Total Years']=present-df['YearBuilt'] ### duration of the house in years"
      ],
      "metadata": {
        "id": "leADHs9nrJHY"
      },
      "execution_count": null,
      "outputs": []
    },
    {
      "cell_type": "code",
      "source": [
        "df.drop('YearBuilt',axis=1,inplace=True) ### removing/dropping the YearBuilt column"
      ],
      "metadata": {
        "id": "t4X5owtzrqWQ"
      },
      "execution_count": null,
      "outputs": []
    },
    {
      "cell_type": "code",
      "source": [
        "df.columns\n"
      ],
      "metadata": {
        "colab": {
          "base_uri": "https://localhost:8080/"
        },
        "id": "1ZbFLBPCr0my",
        "outputId": "b6ed6f28-e06e-4e60-ec3d-3ec98558c1fc"
      },
      "execution_count": null,
      "outputs": [
        {
          "output_type": "execute_result",
          "data": {
            "text/plain": [
              "Index(['MSSubClass', 'MSZoning', 'LotFrontage', 'LotArea', 'Street',\n",
              "       'LotShape', '1stFlrSF', '2ndFlrSF', 'SalePrice', 'Total Years'],\n",
              "      dtype='object')"
            ]
          },
          "metadata": {},
          "execution_count": 9
        }
      ]
    },
    {
      "cell_type": "code",
      "source": [
        "### Creating Categorical Features\n",
        "cat_features=['MSSubClass', 'MSZoning','Street','LotShape'] ###features that could be categorical( the ones with the low unique values)\n",
        "out_features='SalePrice'"
      ],
      "metadata": {
        "id": "w0WjRdvGr3Bm"
      },
      "execution_count": null,
      "outputs": []
    },
    {
      "cell_type": "code",
      "source": [
        "from sklearn.preprocessing import LabelEncoder          ### using label encoder we will fit_transform all the categorical features\n",
        "lbl_encoder={}\n",
        "lbl_encoder['MSSubClass']=LabelEncoder()\n",
        "lbl_encoder['MSSubClass'].fit(df['MSSubClass'])"
      ],
      "metadata": {
        "colab": {
          "base_uri": "https://localhost:8080/",
          "height": 74
        },
        "id": "4OlPnwogsgJC",
        "outputId": "0ac5e887-1cc1-4dc9-d7f2-b19e87055f85"
      },
      "execution_count": null,
      "outputs": [
        {
          "output_type": "execute_result",
          "data": {
            "text/plain": [
              "LabelEncoder()"
            ],
            "text/html": [
              "<style>#sk-container-id-1 {color: black;background-color: white;}#sk-container-id-1 pre{padding: 0;}#sk-container-id-1 div.sk-toggleable {background-color: white;}#sk-container-id-1 label.sk-toggleable__label {cursor: pointer;display: block;width: 100%;margin-bottom: 0;padding: 0.3em;box-sizing: border-box;text-align: center;}#sk-container-id-1 label.sk-toggleable__label-arrow:before {content: \"▸\";float: left;margin-right: 0.25em;color: #696969;}#sk-container-id-1 label.sk-toggleable__label-arrow:hover:before {color: black;}#sk-container-id-1 div.sk-estimator:hover label.sk-toggleable__label-arrow:before {color: black;}#sk-container-id-1 div.sk-toggleable__content {max-height: 0;max-width: 0;overflow: hidden;text-align: left;background-color: #f0f8ff;}#sk-container-id-1 div.sk-toggleable__content pre {margin: 0.2em;color: black;border-radius: 0.25em;background-color: #f0f8ff;}#sk-container-id-1 input.sk-toggleable__control:checked~div.sk-toggleable__content {max-height: 200px;max-width: 100%;overflow: auto;}#sk-container-id-1 input.sk-toggleable__control:checked~label.sk-toggleable__label-arrow:before {content: \"▾\";}#sk-container-id-1 div.sk-estimator input.sk-toggleable__control:checked~label.sk-toggleable__label {background-color: #d4ebff;}#sk-container-id-1 div.sk-label input.sk-toggleable__control:checked~label.sk-toggleable__label {background-color: #d4ebff;}#sk-container-id-1 input.sk-hidden--visually {border: 0;clip: rect(1px 1px 1px 1px);clip: rect(1px, 1px, 1px, 1px);height: 1px;margin: -1px;overflow: hidden;padding: 0;position: absolute;width: 1px;}#sk-container-id-1 div.sk-estimator {font-family: monospace;background-color: #f0f8ff;border: 1px dotted black;border-radius: 0.25em;box-sizing: border-box;margin-bottom: 0.5em;}#sk-container-id-1 div.sk-estimator:hover {background-color: #d4ebff;}#sk-container-id-1 div.sk-parallel-item::after {content: \"\";width: 100%;border-bottom: 1px solid gray;flex-grow: 1;}#sk-container-id-1 div.sk-label:hover label.sk-toggleable__label {background-color: #d4ebff;}#sk-container-id-1 div.sk-serial::before {content: \"\";position: absolute;border-left: 1px solid gray;box-sizing: border-box;top: 0;bottom: 0;left: 50%;z-index: 0;}#sk-container-id-1 div.sk-serial {display: flex;flex-direction: column;align-items: center;background-color: white;padding-right: 0.2em;padding-left: 0.2em;position: relative;}#sk-container-id-1 div.sk-item {position: relative;z-index: 1;}#sk-container-id-1 div.sk-parallel {display: flex;align-items: stretch;justify-content: center;background-color: white;position: relative;}#sk-container-id-1 div.sk-item::before, #sk-container-id-1 div.sk-parallel-item::before {content: \"\";position: absolute;border-left: 1px solid gray;box-sizing: border-box;top: 0;bottom: 0;left: 50%;z-index: -1;}#sk-container-id-1 div.sk-parallel-item {display: flex;flex-direction: column;z-index: 1;position: relative;background-color: white;}#sk-container-id-1 div.sk-parallel-item:first-child::after {align-self: flex-end;width: 50%;}#sk-container-id-1 div.sk-parallel-item:last-child::after {align-self: flex-start;width: 50%;}#sk-container-id-1 div.sk-parallel-item:only-child::after {width: 0;}#sk-container-id-1 div.sk-dashed-wrapped {border: 1px dashed gray;margin: 0 0.4em 0.5em 0.4em;box-sizing: border-box;padding-bottom: 0.4em;background-color: white;}#sk-container-id-1 div.sk-label label {font-family: monospace;font-weight: bold;display: inline-block;line-height: 1.2em;}#sk-container-id-1 div.sk-label-container {text-align: center;}#sk-container-id-1 div.sk-container {/* jupyter's `normalize.less` sets `[hidden] { display: none; }` but bootstrap.min.css set `[hidden] { display: none !important; }` so we also need the `!important` here to be able to override the default hidden behavior on the sphinx rendered scikit-learn.org. See: https://github.com/scikit-learn/scikit-learn/issues/21755 */display: inline-block !important;position: relative;}#sk-container-id-1 div.sk-text-repr-fallback {display: none;}</style><div id=\"sk-container-id-1\" class=\"sk-top-container\"><div class=\"sk-text-repr-fallback\"><pre>LabelEncoder()</pre><b>In a Jupyter environment, please rerun this cell to show the HTML representation or trust the notebook. <br />On GitHub, the HTML representation is unable to render, please try loading this page with nbviewer.org.</b></div><div class=\"sk-container\" hidden><div class=\"sk-item\"><div class=\"sk-estimator sk-toggleable\"><input class=\"sk-toggleable__control sk-hidden--visually\" id=\"sk-estimator-id-1\" type=\"checkbox\" checked><label for=\"sk-estimator-id-1\" class=\"sk-toggleable__label sk-toggleable__label-arrow\">LabelEncoder</label><div class=\"sk-toggleable__content\"><pre>LabelEncoder()</pre></div></div></div></div></div>"
            ]
          },
          "metadata": {},
          "execution_count": 11
        }
      ]
    },
    {
      "cell_type": "code",
      "source": [
        "lbl_encoder['MSSubClass'].transform(df['MSSubClass'])"
      ],
      "metadata": {
        "colab": {
          "base_uri": "https://localhost:8080/"
        },
        "id": "N8t5-J6RtlTO",
        "outputId": "2d8d1838-dc54-4667-b203-fa32c8460add"
      },
      "execution_count": null,
      "outputs": [
        {
          "output_type": "execute_result",
          "data": {
            "text/plain": [
              "array([5, 0, 5, ..., 6, 0, 0])"
            ]
          },
          "metadata": {},
          "execution_count": 12
        }
      ]
    },
    {
      "cell_type": "code",
      "source": [
        "from sklearn.preprocessing import LabelEncoder\n",
        "for feature in cat_features:\n",
        "  lbl_encoder={}\n",
        "  lbl_encoder[feature]=LabelEncoder()\n",
        "  df[feature]=lbl_encoder[feature].fit_transform(df[feature])               ### are the categorical features are fit_transformed with label_Encoder"
      ],
      "metadata": {
        "id": "tYzWWmxKuMFR"
      },
      "execution_count": null,
      "outputs": []
    },
    {
      "cell_type": "code",
      "source": [
        "df"
      ],
      "metadata": {
        "colab": {
          "base_uri": "https://localhost:8080/",
          "height": 423
        },
        "id": "DPUkSzcZuTgh",
        "outputId": "4a5ae82e-5655-4fba-cae7-4d1f3b9a7435"
      },
      "execution_count": null,
      "outputs": [
        {
          "output_type": "execute_result",
          "data": {
            "text/plain": [
              "      MSSubClass  MSZoning  LotFrontage  LotArea  Street  LotShape  1stFlrSF  \\\n",
              "0              5         3         65.0     8450       1         3       856   \n",
              "1              0         3         80.0     9600       1         3      1262   \n",
              "2              5         3         68.0    11250       1         0       920   \n",
              "3              6         3         60.0     9550       1         0       961   \n",
              "4              5         3         84.0    14260       1         0      1145   \n",
              "...          ...       ...          ...      ...     ...       ...       ...   \n",
              "1455           5         3         62.0     7917       1         3       953   \n",
              "1456           0         3         85.0    13175       1         3      2073   \n",
              "1457           6         3         66.0     9042       1         3      1188   \n",
              "1458           0         3         68.0     9717       1         3      1078   \n",
              "1459           0         3         75.0     9937       1         3      1256   \n",
              "\n",
              "      2ndFlrSF  SalePrice  Total Years  \n",
              "0          854     208500           21  \n",
              "1            0     181500           48  \n",
              "2          866     223500           23  \n",
              "3          756     140000          109  \n",
              "4         1053     250000           24  \n",
              "...        ...        ...          ...  \n",
              "1455       694     175000           25  \n",
              "1456         0     210000           46  \n",
              "1457      1152     266500           83  \n",
              "1458         0     142125           74  \n",
              "1459         0     147500           59  \n",
              "\n",
              "[1201 rows x 10 columns]"
            ],
            "text/html": [
              "\n",
              "  <div id=\"df-47cdd71c-da2f-4789-9d81-ce48339ed731\" class=\"colab-df-container\">\n",
              "    <div>\n",
              "<style scoped>\n",
              "    .dataframe tbody tr th:only-of-type {\n",
              "        vertical-align: middle;\n",
              "    }\n",
              "\n",
              "    .dataframe tbody tr th {\n",
              "        vertical-align: top;\n",
              "    }\n",
              "\n",
              "    .dataframe thead th {\n",
              "        text-align: right;\n",
              "    }\n",
              "</style>\n",
              "<table border=\"1\" class=\"dataframe\">\n",
              "  <thead>\n",
              "    <tr style=\"text-align: right;\">\n",
              "      <th></th>\n",
              "      <th>MSSubClass</th>\n",
              "      <th>MSZoning</th>\n",
              "      <th>LotFrontage</th>\n",
              "      <th>LotArea</th>\n",
              "      <th>Street</th>\n",
              "      <th>LotShape</th>\n",
              "      <th>1stFlrSF</th>\n",
              "      <th>2ndFlrSF</th>\n",
              "      <th>SalePrice</th>\n",
              "      <th>Total Years</th>\n",
              "    </tr>\n",
              "  </thead>\n",
              "  <tbody>\n",
              "    <tr>\n",
              "      <th>0</th>\n",
              "      <td>5</td>\n",
              "      <td>3</td>\n",
              "      <td>65.0</td>\n",
              "      <td>8450</td>\n",
              "      <td>1</td>\n",
              "      <td>3</td>\n",
              "      <td>856</td>\n",
              "      <td>854</td>\n",
              "      <td>208500</td>\n",
              "      <td>21</td>\n",
              "    </tr>\n",
              "    <tr>\n",
              "      <th>1</th>\n",
              "      <td>0</td>\n",
              "      <td>3</td>\n",
              "      <td>80.0</td>\n",
              "      <td>9600</td>\n",
              "      <td>1</td>\n",
              "      <td>3</td>\n",
              "      <td>1262</td>\n",
              "      <td>0</td>\n",
              "      <td>181500</td>\n",
              "      <td>48</td>\n",
              "    </tr>\n",
              "    <tr>\n",
              "      <th>2</th>\n",
              "      <td>5</td>\n",
              "      <td>3</td>\n",
              "      <td>68.0</td>\n",
              "      <td>11250</td>\n",
              "      <td>1</td>\n",
              "      <td>0</td>\n",
              "      <td>920</td>\n",
              "      <td>866</td>\n",
              "      <td>223500</td>\n",
              "      <td>23</td>\n",
              "    </tr>\n",
              "    <tr>\n",
              "      <th>3</th>\n",
              "      <td>6</td>\n",
              "      <td>3</td>\n",
              "      <td>60.0</td>\n",
              "      <td>9550</td>\n",
              "      <td>1</td>\n",
              "      <td>0</td>\n",
              "      <td>961</td>\n",
              "      <td>756</td>\n",
              "      <td>140000</td>\n",
              "      <td>109</td>\n",
              "    </tr>\n",
              "    <tr>\n",
              "      <th>4</th>\n",
              "      <td>5</td>\n",
              "      <td>3</td>\n",
              "      <td>84.0</td>\n",
              "      <td>14260</td>\n",
              "      <td>1</td>\n",
              "      <td>0</td>\n",
              "      <td>1145</td>\n",
              "      <td>1053</td>\n",
              "      <td>250000</td>\n",
              "      <td>24</td>\n",
              "    </tr>\n",
              "    <tr>\n",
              "      <th>...</th>\n",
              "      <td>...</td>\n",
              "      <td>...</td>\n",
              "      <td>...</td>\n",
              "      <td>...</td>\n",
              "      <td>...</td>\n",
              "      <td>...</td>\n",
              "      <td>...</td>\n",
              "      <td>...</td>\n",
              "      <td>...</td>\n",
              "      <td>...</td>\n",
              "    </tr>\n",
              "    <tr>\n",
              "      <th>1455</th>\n",
              "      <td>5</td>\n",
              "      <td>3</td>\n",
              "      <td>62.0</td>\n",
              "      <td>7917</td>\n",
              "      <td>1</td>\n",
              "      <td>3</td>\n",
              "      <td>953</td>\n",
              "      <td>694</td>\n",
              "      <td>175000</td>\n",
              "      <td>25</td>\n",
              "    </tr>\n",
              "    <tr>\n",
              "      <th>1456</th>\n",
              "      <td>0</td>\n",
              "      <td>3</td>\n",
              "      <td>85.0</td>\n",
              "      <td>13175</td>\n",
              "      <td>1</td>\n",
              "      <td>3</td>\n",
              "      <td>2073</td>\n",
              "      <td>0</td>\n",
              "      <td>210000</td>\n",
              "      <td>46</td>\n",
              "    </tr>\n",
              "    <tr>\n",
              "      <th>1457</th>\n",
              "      <td>6</td>\n",
              "      <td>3</td>\n",
              "      <td>66.0</td>\n",
              "      <td>9042</td>\n",
              "      <td>1</td>\n",
              "      <td>3</td>\n",
              "      <td>1188</td>\n",
              "      <td>1152</td>\n",
              "      <td>266500</td>\n",
              "      <td>83</td>\n",
              "    </tr>\n",
              "    <tr>\n",
              "      <th>1458</th>\n",
              "      <td>0</td>\n",
              "      <td>3</td>\n",
              "      <td>68.0</td>\n",
              "      <td>9717</td>\n",
              "      <td>1</td>\n",
              "      <td>3</td>\n",
              "      <td>1078</td>\n",
              "      <td>0</td>\n",
              "      <td>142125</td>\n",
              "      <td>74</td>\n",
              "    </tr>\n",
              "    <tr>\n",
              "      <th>1459</th>\n",
              "      <td>0</td>\n",
              "      <td>3</td>\n",
              "      <td>75.0</td>\n",
              "      <td>9937</td>\n",
              "      <td>1</td>\n",
              "      <td>3</td>\n",
              "      <td>1256</td>\n",
              "      <td>0</td>\n",
              "      <td>147500</td>\n",
              "      <td>59</td>\n",
              "    </tr>\n",
              "  </tbody>\n",
              "</table>\n",
              "<p>1201 rows × 10 columns</p>\n",
              "</div>\n",
              "    <div class=\"colab-df-buttons\">\n",
              "\n",
              "  <div class=\"colab-df-container\">\n",
              "    <button class=\"colab-df-convert\" onclick=\"convertToInteractive('df-47cdd71c-da2f-4789-9d81-ce48339ed731')\"\n",
              "            title=\"Convert this dataframe to an interactive table.\"\n",
              "            style=\"display:none;\">\n",
              "\n",
              "  <svg xmlns=\"http://www.w3.org/2000/svg\" height=\"24px\" viewBox=\"0 -960 960 960\">\n",
              "    <path d=\"M120-120v-720h720v720H120Zm60-500h600v-160H180v160Zm220 220h160v-160H400v160Zm0 220h160v-160H400v160ZM180-400h160v-160H180v160Zm440 0h160v-160H620v160ZM180-180h160v-160H180v160Zm440 0h160v-160H620v160Z\"/>\n",
              "  </svg>\n",
              "    </button>\n",
              "\n",
              "  <style>\n",
              "    .colab-df-container {\n",
              "      display:flex;\n",
              "      gap: 12px;\n",
              "    }\n",
              "\n",
              "    .colab-df-convert {\n",
              "      background-color: #E8F0FE;\n",
              "      border: none;\n",
              "      border-radius: 50%;\n",
              "      cursor: pointer;\n",
              "      display: none;\n",
              "      fill: #1967D2;\n",
              "      height: 32px;\n",
              "      padding: 0 0 0 0;\n",
              "      width: 32px;\n",
              "    }\n",
              "\n",
              "    .colab-df-convert:hover {\n",
              "      background-color: #E2EBFA;\n",
              "      box-shadow: 0px 1px 2px rgba(60, 64, 67, 0.3), 0px 1px 3px 1px rgba(60, 64, 67, 0.15);\n",
              "      fill: #174EA6;\n",
              "    }\n",
              "\n",
              "    .colab-df-buttons div {\n",
              "      margin-bottom: 4px;\n",
              "    }\n",
              "\n",
              "    [theme=dark] .colab-df-convert {\n",
              "      background-color: #3B4455;\n",
              "      fill: #D2E3FC;\n",
              "    }\n",
              "\n",
              "    [theme=dark] .colab-df-convert:hover {\n",
              "      background-color: #434B5C;\n",
              "      box-shadow: 0px 1px 3px 1px rgba(0, 0, 0, 0.15);\n",
              "      filter: drop-shadow(0px 1px 2px rgba(0, 0, 0, 0.3));\n",
              "      fill: #FFFFFF;\n",
              "    }\n",
              "  </style>\n",
              "\n",
              "    <script>\n",
              "      const buttonEl =\n",
              "        document.querySelector('#df-47cdd71c-da2f-4789-9d81-ce48339ed731 button.colab-df-convert');\n",
              "      buttonEl.style.display =\n",
              "        google.colab.kernel.accessAllowed ? 'block' : 'none';\n",
              "\n",
              "      async function convertToInteractive(key) {\n",
              "        const element = document.querySelector('#df-47cdd71c-da2f-4789-9d81-ce48339ed731');\n",
              "        const dataTable =\n",
              "          await google.colab.kernel.invokeFunction('convertToInteractive',\n",
              "                                                    [key], {});\n",
              "        if (!dataTable) return;\n",
              "\n",
              "        const docLinkHtml = 'Like what you see? Visit the ' +\n",
              "          '<a target=\"_blank\" href=https://colab.research.google.com/notebooks/data_table.ipynb>data table notebook</a>'\n",
              "          + ' to learn more about interactive tables.';\n",
              "        element.innerHTML = '';\n",
              "        dataTable['output_type'] = 'display_data';\n",
              "        await google.colab.output.renderOutput(dataTable, element);\n",
              "        const docLink = document.createElement('div');\n",
              "        docLink.innerHTML = docLinkHtml;\n",
              "        element.appendChild(docLink);\n",
              "      }\n",
              "    </script>\n",
              "  </div>\n",
              "\n",
              "\n",
              "<div id=\"df-bc294883-f578-4498-b796-c5fcf8bbef74\">\n",
              "  <button class=\"colab-df-quickchart\" onclick=\"quickchart('df-bc294883-f578-4498-b796-c5fcf8bbef74')\"\n",
              "            title=\"Suggest charts\"\n",
              "            style=\"display:none;\">\n",
              "\n",
              "<svg xmlns=\"http://www.w3.org/2000/svg\" height=\"24px\"viewBox=\"0 0 24 24\"\n",
              "     width=\"24px\">\n",
              "    <g>\n",
              "        <path d=\"M19 3H5c-1.1 0-2 .9-2 2v14c0 1.1.9 2 2 2h14c1.1 0 2-.9 2-2V5c0-1.1-.9-2-2-2zM9 17H7v-7h2v7zm4 0h-2V7h2v10zm4 0h-2v-4h2v4z\"/>\n",
              "    </g>\n",
              "</svg>\n",
              "  </button>\n",
              "\n",
              "<style>\n",
              "  .colab-df-quickchart {\n",
              "      --bg-color: #E8F0FE;\n",
              "      --fill-color: #1967D2;\n",
              "      --hover-bg-color: #E2EBFA;\n",
              "      --hover-fill-color: #174EA6;\n",
              "      --disabled-fill-color: #AAA;\n",
              "      --disabled-bg-color: #DDD;\n",
              "  }\n",
              "\n",
              "  [theme=dark] .colab-df-quickchart {\n",
              "      --bg-color: #3B4455;\n",
              "      --fill-color: #D2E3FC;\n",
              "      --hover-bg-color: #434B5C;\n",
              "      --hover-fill-color: #FFFFFF;\n",
              "      --disabled-bg-color: #3B4455;\n",
              "      --disabled-fill-color: #666;\n",
              "  }\n",
              "\n",
              "  .colab-df-quickchart {\n",
              "    background-color: var(--bg-color);\n",
              "    border: none;\n",
              "    border-radius: 50%;\n",
              "    cursor: pointer;\n",
              "    display: none;\n",
              "    fill: var(--fill-color);\n",
              "    height: 32px;\n",
              "    padding: 0;\n",
              "    width: 32px;\n",
              "  }\n",
              "\n",
              "  .colab-df-quickchart:hover {\n",
              "    background-color: var(--hover-bg-color);\n",
              "    box-shadow: 0 1px 2px rgba(60, 64, 67, 0.3), 0 1px 3px 1px rgba(60, 64, 67, 0.15);\n",
              "    fill: var(--button-hover-fill-color);\n",
              "  }\n",
              "\n",
              "  .colab-df-quickchart-complete:disabled,\n",
              "  .colab-df-quickchart-complete:disabled:hover {\n",
              "    background-color: var(--disabled-bg-color);\n",
              "    fill: var(--disabled-fill-color);\n",
              "    box-shadow: none;\n",
              "  }\n",
              "\n",
              "  .colab-df-spinner {\n",
              "    border: 2px solid var(--fill-color);\n",
              "    border-color: transparent;\n",
              "    border-bottom-color: var(--fill-color);\n",
              "    animation:\n",
              "      spin 1s steps(1) infinite;\n",
              "  }\n",
              "\n",
              "  @keyframes spin {\n",
              "    0% {\n",
              "      border-color: transparent;\n",
              "      border-bottom-color: var(--fill-color);\n",
              "      border-left-color: var(--fill-color);\n",
              "    }\n",
              "    20% {\n",
              "      border-color: transparent;\n",
              "      border-left-color: var(--fill-color);\n",
              "      border-top-color: var(--fill-color);\n",
              "    }\n",
              "    30% {\n",
              "      border-color: transparent;\n",
              "      border-left-color: var(--fill-color);\n",
              "      border-top-color: var(--fill-color);\n",
              "      border-right-color: var(--fill-color);\n",
              "    }\n",
              "    40% {\n",
              "      border-color: transparent;\n",
              "      border-right-color: var(--fill-color);\n",
              "      border-top-color: var(--fill-color);\n",
              "    }\n",
              "    60% {\n",
              "      border-color: transparent;\n",
              "      border-right-color: var(--fill-color);\n",
              "    }\n",
              "    80% {\n",
              "      border-color: transparent;\n",
              "      border-right-color: var(--fill-color);\n",
              "      border-bottom-color: var(--fill-color);\n",
              "    }\n",
              "    90% {\n",
              "      border-color: transparent;\n",
              "      border-bottom-color: var(--fill-color);\n",
              "    }\n",
              "  }\n",
              "</style>\n",
              "\n",
              "  <script>\n",
              "    async function quickchart(key) {\n",
              "      const quickchartButtonEl =\n",
              "        document.querySelector('#' + key + ' button');\n",
              "      quickchartButtonEl.disabled = true;  // To prevent multiple clicks.\n",
              "      quickchartButtonEl.classList.add('colab-df-spinner');\n",
              "      try {\n",
              "        const charts = await google.colab.kernel.invokeFunction(\n",
              "            'suggestCharts', [key], {});\n",
              "      } catch (error) {\n",
              "        console.error('Error during call to suggestCharts:', error);\n",
              "      }\n",
              "      quickchartButtonEl.classList.remove('colab-df-spinner');\n",
              "      quickchartButtonEl.classList.add('colab-df-quickchart-complete');\n",
              "    }\n",
              "    (() => {\n",
              "      let quickchartButtonEl =\n",
              "        document.querySelector('#df-bc294883-f578-4498-b796-c5fcf8bbef74 button');\n",
              "      quickchartButtonEl.style.display =\n",
              "        google.colab.kernel.accessAllowed ? 'block' : 'none';\n",
              "    })();\n",
              "  </script>\n",
              "</div>\n",
              "\n",
              "  <div id=\"id_c8b18bd5-f9cf-4548-8ef3-359f3071bf75\">\n",
              "    <style>\n",
              "      .colab-df-generate {\n",
              "        background-color: #E8F0FE;\n",
              "        border: none;\n",
              "        border-radius: 50%;\n",
              "        cursor: pointer;\n",
              "        display: none;\n",
              "        fill: #1967D2;\n",
              "        height: 32px;\n",
              "        padding: 0 0 0 0;\n",
              "        width: 32px;\n",
              "      }\n",
              "\n",
              "      .colab-df-generate:hover {\n",
              "        background-color: #E2EBFA;\n",
              "        box-shadow: 0px 1px 2px rgba(60, 64, 67, 0.3), 0px 1px 3px 1px rgba(60, 64, 67, 0.15);\n",
              "        fill: #174EA6;\n",
              "      }\n",
              "\n",
              "      [theme=dark] .colab-df-generate {\n",
              "        background-color: #3B4455;\n",
              "        fill: #D2E3FC;\n",
              "      }\n",
              "\n",
              "      [theme=dark] .colab-df-generate:hover {\n",
              "        background-color: #434B5C;\n",
              "        box-shadow: 0px 1px 3px 1px rgba(0, 0, 0, 0.15);\n",
              "        filter: drop-shadow(0px 1px 2px rgba(0, 0, 0, 0.3));\n",
              "        fill: #FFFFFF;\n",
              "      }\n",
              "    </style>\n",
              "    <button class=\"colab-df-generate\" onclick=\"generateWithVariable('df')\"\n",
              "            title=\"Generate code using this dataframe.\"\n",
              "            style=\"display:none;\">\n",
              "\n",
              "  <svg xmlns=\"http://www.w3.org/2000/svg\" height=\"24px\"viewBox=\"0 0 24 24\"\n",
              "       width=\"24px\">\n",
              "    <path d=\"M7,19H8.4L18.45,9,17,7.55,7,17.6ZM5,21V16.75L18.45,3.32a2,2,0,0,1,2.83,0l1.4,1.43a1.91,1.91,0,0,1,.58,1.4,1.91,1.91,0,0,1-.58,1.4L9.25,21ZM18.45,9,17,7.55Zm-12,3A5.31,5.31,0,0,0,4.9,8.1,5.31,5.31,0,0,0,1,6.5,5.31,5.31,0,0,0,4.9,4.9,5.31,5.31,0,0,0,6.5,1,5.31,5.31,0,0,0,8.1,4.9,5.31,5.31,0,0,0,12,6.5,5.46,5.46,0,0,0,6.5,12Z\"/>\n",
              "  </svg>\n",
              "    </button>\n",
              "    <script>\n",
              "      (() => {\n",
              "      const buttonEl =\n",
              "        document.querySelector('#id_c8b18bd5-f9cf-4548-8ef3-359f3071bf75 button.colab-df-generate');\n",
              "      buttonEl.style.display =\n",
              "        google.colab.kernel.accessAllowed ? 'block' : 'none';\n",
              "\n",
              "      buttonEl.onclick = () => {\n",
              "        google.colab.notebook.generateWithVariable('df');\n",
              "      }\n",
              "      })();\n",
              "    </script>\n",
              "  </div>\n",
              "\n",
              "    </div>\n",
              "  </div>\n"
            ],
            "application/vnd.google.colaboratory.intrinsic+json": {
              "type": "dataframe",
              "variable_name": "df",
              "summary": "{\n  \"name\": \"df\",\n  \"rows\": 1201,\n  \"fields\": [\n    {\n      \"column\": \"MSSubClass\",\n      \"properties\": {\n        \"dtype\": \"number\",\n        \"std\": 4,\n        \"min\": 0,\n        \"max\": 14,\n        \"num_unique_values\": 15,\n        \"samples\": [\n          8,\n          7,\n          5\n        ],\n        \"semantic_type\": \"\",\n        \"description\": \"\"\n      }\n    },\n    {\n      \"column\": \"MSZoning\",\n      \"properties\": {\n        \"dtype\": \"number\",\n        \"std\": 0,\n        \"min\": 0,\n        \"max\": 4,\n        \"num_unique_values\": 5,\n        \"samples\": [\n          4,\n          2,\n          0\n        ],\n        \"semantic_type\": \"\",\n        \"description\": \"\"\n      }\n    },\n    {\n      \"column\": \"LotFrontage\",\n      \"properties\": {\n        \"dtype\": \"number\",\n        \"std\": 24.284751774483208,\n        \"min\": 21.0,\n        \"max\": 313.0,\n        \"num_unique_values\": 110,\n        \"samples\": [\n          150.0,\n          91.0,\n          84.0\n        ],\n        \"semantic_type\": \"\",\n        \"description\": \"\"\n      }\n    },\n    {\n      \"column\": \"LotArea\",\n      \"properties\": {\n        \"dtype\": \"number\",\n        \"std\": 7924,\n        \"min\": 1300,\n        \"max\": 215245,\n        \"num_unique_values\": 869,\n        \"samples\": [\n          11198,\n          4500,\n          8544\n        ],\n        \"semantic_type\": \"\",\n        \"description\": \"\"\n      }\n    },\n    {\n      \"column\": \"Street\",\n      \"properties\": {\n        \"dtype\": \"number\",\n        \"std\": 0,\n        \"min\": 0,\n        \"max\": 1,\n        \"num_unique_values\": 2,\n        \"samples\": [\n          0,\n          1\n        ],\n        \"semantic_type\": \"\",\n        \"description\": \"\"\n      }\n    },\n    {\n      \"column\": \"LotShape\",\n      \"properties\": {\n        \"dtype\": \"number\",\n        \"std\": 1,\n        \"min\": 0,\n        \"max\": 3,\n        \"num_unique_values\": 4,\n        \"samples\": [\n          0,\n          2\n        ],\n        \"semantic_type\": \"\",\n        \"description\": \"\"\n      }\n    },\n    {\n      \"column\": \"1stFlrSF\",\n      \"properties\": {\n        \"dtype\": \"number\",\n        \"std\": 386,\n        \"min\": 334,\n        \"max\": 4692,\n        \"num_unique_values\": 678,\n        \"samples\": [\n          1334,\n          2020\n        ],\n        \"semantic_type\": \"\",\n        \"description\": \"\"\n      }\n    },\n    {\n      \"column\": \"2ndFlrSF\",\n      \"properties\": {\n        \"dtype\": \"number\",\n        \"std\": 435,\n        \"min\": 0,\n        \"max\": 2065,\n        \"num_unique_values\": 368,\n        \"samples\": [\n          707,\n          639\n        ],\n        \"semantic_type\": \"\",\n        \"description\": \"\"\n      }\n    },\n    {\n      \"column\": \"SalePrice\",\n      \"properties\": {\n        \"dtype\": \"number\",\n        \"std\": 83389,\n        \"min\": 34900,\n        \"max\": 755000,\n        \"num_unique_values\": 597,\n        \"samples\": [\n          372402,\n          395192\n        ],\n        \"semantic_type\": \"\",\n        \"description\": \"\"\n      }\n    },\n    {\n      \"column\": \"Total Years\",\n      \"properties\": {\n        \"dtype\": \"number\",\n        \"std\": 31,\n        \"min\": 14,\n        \"max\": 152,\n        \"num_unique_values\": 112,\n        \"samples\": [\n          56,\n          37\n        ],\n        \"semantic_type\": \"\",\n        \"description\": \"\"\n      }\n    }\n  ]\n}"
            }
          },
          "metadata": {},
          "execution_count": 14
        }
      ]
    },
    {
      "cell_type": "code",
      "source": [
        "### Stacking and Converting into Tensors\n",
        "\n",
        "# Convert to numpy\n",
        "import numpy as np\n",
        "cat_features=np.stack([df['MSSubClass'], df['MSZoning'],df['Street'],df['LotShape']],1)     ##stacking on the other axis\n",
        "cat_features"
      ],
      "metadata": {
        "colab": {
          "base_uri": "https://localhost:8080/"
        },
        "id": "-PeGRnsVv6gn",
        "outputId": "4d6c8b99-8e6c-48bf-bb46-93921b6cb434"
      },
      "execution_count": null,
      "outputs": [
        {
          "output_type": "execute_result",
          "data": {
            "text/plain": [
              "array([[5, 3, 1, 3],\n",
              "       [0, 3, 1, 3],\n",
              "       [5, 3, 1, 0],\n",
              "       ...,\n",
              "       [6, 3, 1, 3],\n",
              "       [0, 3, 1, 3],\n",
              "       [0, 3, 1, 3]])"
            ]
          },
          "metadata": {},
          "execution_count": 15
        }
      ]
    },
    {
      "cell_type": "code",
      "source": [
        "### Convert numpy to Tensor\n",
        "import torch\n",
        "cat_features=torch.tensor(cat_features,dtype=torch.int64)   ## int because categorical features cannot be converted to float\n",
        "cat_features"
      ],
      "metadata": {
        "colab": {
          "base_uri": "https://localhost:8080/"
        },
        "id": "5IQrnUX_yT8a",
        "outputId": "3d85b99c-ae80-4f93-8d81-5e43736fd18f"
      },
      "execution_count": null,
      "outputs": [
        {
          "output_type": "execute_result",
          "data": {
            "text/plain": [
              "tensor([[5, 3, 1, 3],\n",
              "        [0, 3, 1, 3],\n",
              "        [5, 3, 1, 0],\n",
              "        ...,\n",
              "        [6, 3, 1, 3],\n",
              "        [0, 3, 1, 3],\n",
              "        [0, 3, 1, 3]])"
            ]
          },
          "metadata": {},
          "execution_count": 16
        }
      ]
    },
    {
      "cell_type": "code",
      "source": [
        "cont_features=[]         ### here are the continuous features\n",
        "for i in df.columns:\n",
        "  if i in ['MSSubClass', 'MSZoning','Street','LotShape','SalePrice']:\n",
        "    pass\n",
        "  else:\n",
        "    cont_features.append(i)"
      ],
      "metadata": {
        "id": "BNr3JLPZytZW"
      },
      "execution_count": null,
      "outputs": []
    },
    {
      "cell_type": "code",
      "source": [
        "cont_features"
      ],
      "metadata": {
        "colab": {
          "base_uri": "https://localhost:8080/"
        },
        "id": "aYRih8-4z05w",
        "outputId": "ea2ab06c-05ea-4355-ba44-7c42aab7df2b"
      },
      "execution_count": null,
      "outputs": [
        {
          "output_type": "execute_result",
          "data": {
            "text/plain": [
              "['LotFrontage', 'LotArea', '1stFlrSF', '2ndFlrSF', 'Total Years']"
            ]
          },
          "metadata": {},
          "execution_count": 18
        }
      ]
    },
    {
      "cell_type": "code",
      "source": [
        "## Stacking continuous variable to a tensor\n",
        "cont_values=np.stack([df[i].values for i in cont_features],axis=1)\n",
        "cont_values=torch.tensor(cont_values,dtype=torch.float) ## continuous values can be converted to float"
      ],
      "metadata": {
        "id": "mW-Rh6lSz2Rv"
      },
      "execution_count": null,
      "outputs": []
    },
    {
      "cell_type": "code",
      "source": [
        "cont_values"
      ],
      "metadata": {
        "colab": {
          "base_uri": "https://localhost:8080/"
        },
        "id": "4JahrCpH09EL",
        "outputId": "8ffe1121-f113-4390-fb2d-536ad2188190"
      },
      "execution_count": null,
      "outputs": [
        {
          "output_type": "execute_result",
          "data": {
            "text/plain": [
              "tensor([[   65.,  8450.,   856.,   854.,    21.],\n",
              "        [   80.,  9600.,  1262.,     0.,    48.],\n",
              "        [   68., 11250.,   920.,   866.,    23.],\n",
              "        ...,\n",
              "        [   66.,  9042.,  1188.,  1152.,    83.],\n",
              "        [   68.,  9717.,  1078.,     0.,    74.],\n",
              "        [   75.,  9937.,  1256.,     0.,    59.]])"
            ]
          },
          "metadata": {},
          "execution_count": 20
        }
      ]
    },
    {
      "cell_type": "code",
      "source": [
        "cont_values.dtype"
      ],
      "metadata": {
        "colab": {
          "base_uri": "https://localhost:8080/"
        },
        "id": "aXbxm5E_1C1f",
        "outputId": "6f6acef5-7bf1-4594-cc9b-2286b918aba7"
      },
      "execution_count": null,
      "outputs": [
        {
          "output_type": "execute_result",
          "data": {
            "text/plain": [
              "torch.float32"
            ]
          },
          "metadata": {},
          "execution_count": 21
        }
      ]
    },
    {
      "cell_type": "markdown",
      "source": [
        "## Till here both the categorical and the continuous features have been converted to the respective tensors"
      ],
      "metadata": {
        "id": "1XadSmpwYKJs"
      }
    },
    {
      "cell_type": "code",
      "source": [
        "## Dependent feature\n",
        "y=torch.tensor(df['SalePrice'].values,dtype=torch.float).reshape(-1,1)             ## dependent feature is also converted to float\n",
        "y"
      ],
      "metadata": {
        "colab": {
          "base_uri": "https://localhost:8080/"
        },
        "id": "lMTK5xNF1PcG",
        "outputId": "9f37396a-216d-4b59-9511-f4e812c7e6dc"
      },
      "execution_count": null,
      "outputs": [
        {
          "output_type": "execute_result",
          "data": {
            "text/plain": [
              "tensor([[208500.],\n",
              "        [181500.],\n",
              "        [223500.],\n",
              "        ...,\n",
              "        [266500.],\n",
              "        [142125.],\n",
              "        [147500.]])"
            ]
          },
          "metadata": {},
          "execution_count": 22
        }
      ]
    },
    {
      "cell_type": "markdown",
      "source": [
        "The only dependent feature 'SalePrice' has also been converted to tensor"
      ],
      "metadata": {
        "id": "5CDiFcfpYT5k"
      }
    },
    {
      "cell_type": "code",
      "source": [
        "df.info()"
      ],
      "metadata": {
        "colab": {
          "base_uri": "https://localhost:8080/"
        },
        "id": "z-tzYadT4TbC",
        "outputId": "c5404e52-0bab-4c66-bf83-795335a2b1f4"
      },
      "execution_count": null,
      "outputs": [
        {
          "output_type": "stream",
          "name": "stdout",
          "text": [
            "<class 'pandas.core.frame.DataFrame'>\n",
            "Index: 1201 entries, 0 to 1459\n",
            "Data columns (total 10 columns):\n",
            " #   Column       Non-Null Count  Dtype  \n",
            "---  ------       --------------  -----  \n",
            " 0   MSSubClass   1201 non-null   int64  \n",
            " 1   MSZoning     1201 non-null   int64  \n",
            " 2   LotFrontage  1201 non-null   float64\n",
            " 3   LotArea      1201 non-null   int64  \n",
            " 4   Street       1201 non-null   int64  \n",
            " 5   LotShape     1201 non-null   int64  \n",
            " 6   1stFlrSF     1201 non-null   int64  \n",
            " 7   2ndFlrSF     1201 non-null   int64  \n",
            " 8   SalePrice    1201 non-null   int64  \n",
            " 9   Total Years  1201 non-null   int64  \n",
            "dtypes: float64(1), int64(9)\n",
            "memory usage: 103.2 KB\n"
          ]
        }
      ]
    },
    {
      "cell_type": "code",
      "source": [
        "cat_features.shape,cont_values.shape,y.shape"
      ],
      "metadata": {
        "colab": {
          "base_uri": "https://localhost:8080/"
        },
        "id": "09fwYBuB41Ih",
        "outputId": "69c76c41-27f3-4e00-f652-8291585d5fff"
      },
      "execution_count": null,
      "outputs": [
        {
          "output_type": "execute_result",
          "data": {
            "text/plain": [
              "(torch.Size([1201, 4]), torch.Size([1201, 5]), torch.Size([1201, 1]))"
            ]
          },
          "metadata": {},
          "execution_count": 24
        }
      ]
    },
    {
      "cell_type": "code",
      "source": [
        "len(df['MSSubClass'].unique())"
      ],
      "metadata": {
        "colab": {
          "base_uri": "https://localhost:8080/"
        },
        "id": "7hzo0Flu5EHr",
        "outputId": "642dac40-860c-4ebd-f92f-42b0d0ee83ed"
      },
      "execution_count": null,
      "outputs": [
        {
          "output_type": "execute_result",
          "data": {
            "text/plain": [
              "15"
            ]
          },
          "metadata": {},
          "execution_count": 25
        }
      ]
    },
    {
      "cell_type": "markdown",
      "source": [
        "### Embeeding size for categorical columns\n",
        "\n",
        "# Note: Embeeding is only done for categorical data"
      ],
      "metadata": {
        "id": "mDJZwupg6PiZ"
      }
    },
    {
      "cell_type": "code",
      "source": [
        "## Note: Embeeding is only done for categorical data\n",
        "cat_dims=[len(df[col].unique()) for col in ['MSSubClass', 'MSZoning','Street','LotShape']]      ### taking the number of unique values of the Categorical data in cat_dims\n",
        "cat_dims\n"
      ],
      "metadata": {
        "colab": {
          "base_uri": "https://localhost:8080/"
        },
        "id": "_R1f4OBv5s_W",
        "outputId": "cfd5147b-861c-4403-9d41-7b6c532eb2d2"
      },
      "execution_count": null,
      "outputs": [
        {
          "output_type": "execute_result",
          "data": {
            "text/plain": [
              "[15, 5, 2, 4]"
            ]
          },
          "metadata": {},
          "execution_count": 26
        }
      ]
    },
    {
      "cell_type": "code",
      "source": [
        "### Thumb Rule: Output dimension should be setbased on the input dimension(min(50,feature_Dimension/2))\n",
        "\n",
        "embeeding_dim=[(x,min(50,(x+1)//2)) for x in cat_dims]     ### So it will give the number of inputs and outputs in the same ()."
      ],
      "metadata": {
        "id": "nySUAHgE6inj"
      },
      "execution_count": null,
      "outputs": []
    },
    {
      "cell_type": "code",
      "source": [
        "### Preprocessing steps\n",
        "embeeding_dim"
      ],
      "metadata": {
        "colab": {
          "base_uri": "https://localhost:8080/"
        },
        "id": "YQy_jSpP8VhI",
        "outputId": "efed87df-0b9f-4abc-a439-0d54dc513871"
      },
      "execution_count": null,
      "outputs": [
        {
          "output_type": "execute_result",
          "data": {
            "text/plain": [
              "[(15, 8), (5, 3), (2, 1), (4, 2)]"
            ]
          },
          "metadata": {},
          "execution_count": 28
        }
      ]
    },
    {
      "cell_type": "code",
      "source": [
        "import torch\n",
        "import torch.nn as nn\n",
        "import torch.nn.functional as F"
      ],
      "metadata": {
        "id": "GpbdJ-Mv8XmY"
      },
      "execution_count": null,
      "outputs": []
    },
    {
      "cell_type": "code",
      "source": [
        "embed_representation=nn.ModuleList([nn.Embedding(inp,out) for inp,out in embeeding_dim])\n",
        "embed_representation"
      ],
      "metadata": {
        "colab": {
          "base_uri": "https://localhost:8080/"
        },
        "id": "IJGZVxf98yHL",
        "outputId": "3a5b09b8-b724-4c2e-cb11-6aafcb308699"
      },
      "execution_count": null,
      "outputs": [
        {
          "output_type": "execute_result",
          "data": {
            "text/plain": [
              "ModuleList(\n",
              "  (0): Embedding(15, 8)\n",
              "  (1): Embedding(5, 3)\n",
              "  (2): Embedding(2, 1)\n",
              "  (3): Embedding(4, 2)\n",
              ")"
            ]
          },
          "metadata": {},
          "execution_count": 30
        }
      ]
    },
    {
      "cell_type": "code",
      "source": [
        "cat_features"
      ],
      "metadata": {
        "colab": {
          "base_uri": "https://localhost:8080/"
        },
        "id": "xcohku3T94Ef",
        "outputId": "2f195b7d-7b46-4e29-a73b-c134c5a51c04"
      },
      "execution_count": null,
      "outputs": [
        {
          "output_type": "execute_result",
          "data": {
            "text/plain": [
              "tensor([[5, 3, 1, 3],\n",
              "        [0, 3, 1, 3],\n",
              "        [5, 3, 1, 0],\n",
              "        ...,\n",
              "        [6, 3, 1, 3],\n",
              "        [0, 3, 1, 3],\n",
              "        [0, 3, 1, 3]])"
            ]
          },
          "metadata": {},
          "execution_count": 31
        }
      ]
    },
    {
      "cell_type": "code",
      "source": [
        "cat_featuresz=cat_features[:4]\n",
        "cat_featuresz"
      ],
      "metadata": {
        "colab": {
          "base_uri": "https://localhost:8080/"
        },
        "id": "MqBz9Z8i-cd3",
        "outputId": "cfe3bef5-9ba0-4936-80dd-65a12e83a13c"
      },
      "execution_count": null,
      "outputs": [
        {
          "output_type": "execute_result",
          "data": {
            "text/plain": [
              "tensor([[5, 3, 1, 3],\n",
              "        [0, 3, 1, 3],\n",
              "        [5, 3, 1, 0],\n",
              "        [6, 3, 1, 0]])"
            ]
          },
          "metadata": {},
          "execution_count": 32
        }
      ]
    },
    {
      "cell_type": "code",
      "source": [
        "pd.set_option('display.max_rows',500)\n",
        "embedding_val=[]\n",
        "for i,e in enumerate(embed_representation):\n",
        "  embedding_val.append(e(cat_features[:,i]))"
      ],
      "metadata": {
        "id": "WAJoaTZv-3ts"
      },
      "execution_count": null,
      "outputs": []
    },
    {
      "cell_type": "code",
      "source": [
        "embedding_val"
      ],
      "metadata": {
        "colab": {
          "base_uri": "https://localhost:8080/"
        },
        "id": "lgnr3x_5AUwa",
        "outputId": "f539e134-775a-42e4-84f3-9652c715a264"
      },
      "execution_count": null,
      "outputs": [
        {
          "output_type": "execute_result",
          "data": {
            "text/plain": [
              "[tensor([[ 1.2022,  0.2859,  1.7306,  ..., -0.8416,  1.7347, -0.8700],\n",
              "         [ 0.1972, -0.7361, -0.8662,  ...,  0.7740,  0.9763,  0.8677],\n",
              "         [ 1.2022,  0.2859,  1.7306,  ..., -0.8416,  1.7347, -0.8700],\n",
              "         ...,\n",
              "         [-0.7218, -0.7851, -1.1233,  ..., -1.1025, -0.1019,  1.4969],\n",
              "         [ 0.1972, -0.7361, -0.8662,  ...,  0.7740,  0.9763,  0.8677],\n",
              "         [ 0.1972, -0.7361, -0.8662,  ...,  0.7740,  0.9763,  0.8677]],\n",
              "        grad_fn=<EmbeddingBackward0>),\n",
              " tensor([[ 2.8133, -0.0119,  0.5665],\n",
              "         [ 2.8133, -0.0119,  0.5665],\n",
              "         [ 2.8133, -0.0119,  0.5665],\n",
              "         ...,\n",
              "         [ 2.8133, -0.0119,  0.5665],\n",
              "         [ 2.8133, -0.0119,  0.5665],\n",
              "         [ 2.8133, -0.0119,  0.5665]], grad_fn=<EmbeddingBackward0>),\n",
              " tensor([[0.4907],\n",
              "         [0.4907],\n",
              "         [0.4907],\n",
              "         ...,\n",
              "         [0.4907],\n",
              "         [0.4907],\n",
              "         [0.4907]], grad_fn=<EmbeddingBackward0>),\n",
              " tensor([[ 1.1342,  1.3362],\n",
              "         [ 1.1342,  1.3362],\n",
              "         [-0.3187, -0.7564],\n",
              "         ...,\n",
              "         [ 1.1342,  1.3362],\n",
              "         [ 1.1342,  1.3362],\n",
              "         [ 1.1342,  1.3362]], grad_fn=<EmbeddingBackward0>)]"
            ]
          },
          "metadata": {},
          "execution_count": 34
        }
      ]
    },
    {
      "cell_type": "code",
      "source": [
        "## to stack up properly  ---> column wise\n",
        "z=torch.cat(embedding_val,1)\n",
        "z"
      ],
      "metadata": {
        "colab": {
          "base_uri": "https://localhost:8080/"
        },
        "id": "_s9lT-aUAWwr",
        "outputId": "fa0cddcc-0a5e-4888-b3a4-7918d0dc2c26"
      },
      "execution_count": null,
      "outputs": [
        {
          "output_type": "execute_result",
          "data": {
            "text/plain": [
              "tensor([[ 1.2022,  0.2859,  1.7306,  ...,  0.4907,  1.1342,  1.3362],\n",
              "        [ 0.1972, -0.7361, -0.8662,  ...,  0.4907,  1.1342,  1.3362],\n",
              "        [ 1.2022,  0.2859,  1.7306,  ...,  0.4907, -0.3187, -0.7564],\n",
              "        ...,\n",
              "        [-0.7218, -0.7851, -1.1233,  ...,  0.4907,  1.1342,  1.3362],\n",
              "        [ 0.1972, -0.7361, -0.8662,  ...,  0.4907,  1.1342,  1.3362],\n",
              "        [ 0.1972, -0.7361, -0.8662,  ...,  0.4907,  1.1342,  1.3362]],\n",
              "       grad_fn=<CatBackward0>)"
            ]
          },
          "metadata": {},
          "execution_count": 35
        }
      ]
    },
    {
      "cell_type": "code",
      "source": [
        "### implement dropout---->dropout is used to prevent overfitting\n",
        "dropout=nn.Dropout(.4)"
      ],
      "metadata": {
        "id": "L8bRkRyhBCi5"
      },
      "execution_count": null,
      "outputs": []
    },
    {
      "cell_type": "code",
      "source": [
        "final_embed=dropout(z)\n",
        "final_embed"
      ],
      "metadata": {
        "colab": {
          "base_uri": "https://localhost:8080/"
        },
        "id": "kPrm3GdqBuJ9",
        "outputId": "c2122657-57d4-498c-aed7-f7df33eb3a11"
      },
      "execution_count": null,
      "outputs": [
        {
          "output_type": "execute_result",
          "data": {
            "text/plain": [
              "tensor([[ 2.0037,  0.4765,  0.0000,  ...,  0.0000,  0.0000,  0.0000],\n",
              "        [ 0.3286, -1.2269, -1.4437,  ...,  0.0000,  1.8904,  0.0000],\n",
              "        [ 0.0000,  0.0000,  2.8844,  ...,  0.0000, -0.5311, -1.2606],\n",
              "        ...,\n",
              "        [-1.2030, -1.3085, -0.0000,  ...,  0.0000,  0.0000,  2.2269],\n",
              "        [ 0.3286, -0.0000, -0.0000,  ...,  0.8179,  1.8904,  2.2269],\n",
              "        [ 0.3286, -1.2269, -1.4437,  ...,  0.0000,  0.0000,  0.0000]],\n",
              "       grad_fn=<MulBackward0>)"
            ]
          },
          "metadata": {},
          "execution_count": 37
        }
      ]
    },
    {
      "cell_type": "markdown",
      "source": [
        "This class FeedForwardNN defines a feedforward neural network (FFNN) in PyTorch for handling a combination of categorical and continuous input features. Let's break down the key components and functionality:\n",
        "\n",
        "Initialization (__init__):\n",
        "\n",
        "The constructor (__init__) initializes the neural network architecture. It takes several parameters:\n",
        "embedding_dim: A list of tuples specifying the dimensions of embedding layers for categorical variables. Each tuple contains the input size and the output size of the embedding layer.\n",
        "n_cont: The number of continuous input features.\n",
        "out_sz: The output size (number of classes or dimensions) of the neural network.\n",
        "layers: A list specifying the sizes of hidden layers in the network.\n",
        "p: Dropout probability (defaulted to 0.5).\n",
        "Inside the constructor, embedding layers are created for each categorical variable specified in embedding_dim. These embeddings are stored in self.embeds.\n",
        "Dropout and batch normalization layers are initialized for handling regularization and normalization of input features.\n",
        "The layers of the neural network are defined using the specified architecture (layers).\n",
        "Forward Pass (forward):\n",
        "\n",
        "The forward method defines how data flows through the network during forward pass.\n",
        "Categorical features (x_Cat) are processed through their respective embedding layers and concatenated together.\n",
        "The concatenated embeddings are passed through a dropout layer (self.emb_drop) for regularization.\n",
        "Continuous features (x_cont) are normalized using batch normalization (self.bn_cont).\n",
        "Concatenated embeddings and continuous features are concatenated together and passed through the hidden layers defined in self.layers.\n",
        "The output of the last layer is returned."
      ],
      "metadata": {
        "id": "dPXO3YXimZz7"
      }
    },
    {
      "cell_type": "code",
      "source": [
        "## Create a Feed Forward Neural Network\n",
        "import torch\n",
        "import torch.nn as nn\n",
        "import torch.nn.functional as F\n",
        "class FeedForwardNN(nn.Module):\n",
        "\n",
        "  def __init__(self,embeeding_dim,n_cont,out_sz,layers,p=0.5):\n",
        "\n",
        "# self, embeeding_dim, number of continuous values,output size,layers,dropout ratio\n",
        "# embedding_dim: A list of tuples specifying the dimensions of embedding layers for categorical variables. Each tuple contains the input size and the output size of the embedding layer.\n",
        "# n_cont: The number of continuous input features.\n",
        "# out_sz: The output size (number of classes or dimensions) of the neural network.\n",
        "# layers: A list specifying the sizes of hidden layers in the network.\n",
        "# p: Dropout probability (defaulted to 0.5).\n",
        "\n",
        "\n",
        "    # Initialize the neural network architectures\n",
        "    super().__init__()\n",
        "    #Embedding layer for categorical variables\n",
        "    self.embeds=nn.ModuleList([nn.Embedding(inp,out) for inp,out in embeeding_dim])\n",
        "    #Dropout layer for embeddings\n",
        "    self.emb_drop=nn.Dropout(p)\n",
        "    #Batch layers for normalization\n",
        "    self.bn_cont=nn.BatchNorm1d(n_cont)\n",
        "\n",
        "    #Define the hidden layers of the neural network\n",
        "    layerlist=[]\n",
        "    #calculate total size of the embedding\n",
        "    n_emb=sum((out for inp,out in embeeding_dim))\n",
        "    # Total number of input features (embeddings(for categorical) + continuous)\n",
        "    n_in=n_emb+n_cont\n",
        "\n",
        "\n",
        "    #Create hidden layers\n",
        "    for i in layers:\n",
        "      layerlist.append(nn.Linear(n_in,i))  #Add linear transformation\n",
        "      layerlist.append(nn.ReLU(inplace=True)) #Apply the relu function\n",
        "      layerlist.append(nn.BatchNorm1d(i)) #Apply the batch normalization\n",
        "      layerlist.append(nn.Dropout(p)) #Apply the Dropout feature\n",
        "      n_in=i #update input size for the next layer\n",
        "\n",
        "    #Output layer\n",
        "    layerlist.append(nn.Linear(layers[-1],out_sz)) #Add output layer  (last layer and the output)\n",
        "    self.layers=nn.Sequential(*layerlist)  #Define Sequential Model of the layers\n",
        "\n",
        "  def forward(self,x_cat,x_cont):\n",
        "    #Forward pass throught the network\n",
        "\n",
        "    embeddings=[]\n",
        "     #Process categorical features through the embedding layers\n",
        "    for i,e in enumerate(self.embeds):    #embedding each categorical feature\n",
        "      embeddings.append(e(x_cat[:,i]))\n",
        "    x=torch.cat(embeddings,1) # Concatenate embeddings along the second dimension\n",
        "    x=self.emb_drop(x) #Apply dropout to the embeddings\n",
        "\n",
        "    #Normalize continuous features\n",
        "    x_cont=self.bn_cont(x_cont)\n",
        "    #Concatenate embeddings and continuous features\n",
        "    x=torch.cat([x,x_cont],1)\n",
        "    # Pass concatenated features through hidden layers\n",
        "    x=self.layers(x)\n",
        "\n",
        "    return x\n"
      ],
      "metadata": {
        "id": "XM9Ob0prBzTN"
      },
      "execution_count": null,
      "outputs": []
    },
    {
      "cell_type": "code",
      "source": [
        "len(cont_features)"
      ],
      "metadata": {
        "colab": {
          "base_uri": "https://localhost:8080/"
        },
        "id": "Zv_Y9QSumkra",
        "outputId": "5b8ffd41-918e-473e-800e-030d44d8229f"
      },
      "execution_count": null,
      "outputs": [
        {
          "output_type": "execute_result",
          "data": {
            "text/plain": [
              "5"
            ]
          },
          "metadata": {},
          "execution_count": 68
        }
      ]
    },
    {
      "cell_type": "code",
      "source": [
        "torch.manual_seed(100)\n",
        "model=FeedForwardNN(embeeding_dim,len(cont_features),1,[100,50],p=0.4)"
      ],
      "metadata": {
        "id": "8ZUdzkNQmpHK"
      },
      "execution_count": null,
      "outputs": []
    },
    {
      "cell_type": "code",
      "source": [
        "model"
      ],
      "metadata": {
        "colab": {
          "base_uri": "https://localhost:8080/"
        },
        "id": "7PhBEGCXm7ZA",
        "outputId": "a598143c-2239-47fe-8ef1-6ea21d497056"
      },
      "execution_count": null,
      "outputs": [
        {
          "output_type": "execute_result",
          "data": {
            "text/plain": [
              "FeedForwardNN(\n",
              "  (embeds): ModuleList(\n",
              "    (0): Embedding(15, 8)\n",
              "    (1): Embedding(5, 3)\n",
              "    (2): Embedding(2, 1)\n",
              "    (3): Embedding(4, 2)\n",
              "  )\n",
              "  (emb_drop): Dropout(p=0.4, inplace=False)\n",
              "  (bn_cont): BatchNorm1d(5, eps=1e-05, momentum=0.1, affine=True, track_running_stats=True)\n",
              "  (layers): Sequential(\n",
              "    (0): Linear(in_features=19, out_features=100, bias=True)\n",
              "    (1): ReLU(inplace=True)\n",
              "    (2): BatchNorm1d(100, eps=1e-05, momentum=0.1, affine=True, track_running_stats=True)\n",
              "    (3): Dropout(p=0.4, inplace=False)\n",
              "    (4): Linear(in_features=100, out_features=50, bias=True)\n",
              "    (5): ReLU(inplace=True)\n",
              "    (6): BatchNorm1d(50, eps=1e-05, momentum=0.1, affine=True, track_running_stats=True)\n",
              "    (7): Dropout(p=0.4, inplace=False)\n",
              "    (8): Linear(in_features=50, out_features=1, bias=True)\n",
              "  )\n",
              ")"
            ]
          },
          "metadata": {},
          "execution_count": 70
        }
      ]
    },
    {
      "cell_type": "code",
      "source": [
        "loss_function=nn.MSELoss()\n",
        "optimizer=torch.optim.Adam(model.parameters(),lr=0.01)"
      ],
      "metadata": {
        "id": "PPE5aSeanFE0"
      },
      "execution_count": null,
      "outputs": []
    },
    {
      "cell_type": "code",
      "source": [
        "df.shape"
      ],
      "metadata": {
        "colab": {
          "base_uri": "https://localhost:8080/"
        },
        "id": "EqNyZ54Enehu",
        "outputId": "4eaf380b-6bae-4669-fbf5-607480e7340c"
      },
      "execution_count": null,
      "outputs": [
        {
          "output_type": "execute_result",
          "data": {
            "text/plain": [
              "(1201, 10)"
            ]
          },
          "metadata": {},
          "execution_count": 72
        }
      ]
    },
    {
      "cell_type": "code",
      "source": [
        "cont_values"
      ],
      "metadata": {
        "colab": {
          "base_uri": "https://localhost:8080/"
        },
        "id": "i-1c63iZnkBK",
        "outputId": "9a38d64e-2138-4a83-d32b-af6535aa10d2"
      },
      "execution_count": null,
      "outputs": [
        {
          "output_type": "execute_result",
          "data": {
            "text/plain": [
              "tensor([[   65.,  8450.,   856.,   854.,    21.],\n",
              "        [   80.,  9600.,  1262.,     0.,    48.],\n",
              "        [   68., 11250.,   920.,   866.,    23.],\n",
              "        ...,\n",
              "        [   66.,  9042.,  1188.,  1152.,    83.],\n",
              "        [   68.,  9717.,  1078.,     0.,    74.],\n",
              "        [   75.,  9937.,  1256.,     0.,    59.]])"
            ]
          },
          "metadata": {},
          "execution_count": 73
        }
      ]
    },
    {
      "cell_type": "code",
      "source": [
        "cont_values.shape"
      ],
      "metadata": {
        "colab": {
          "base_uri": "https://localhost:8080/"
        },
        "id": "i9Ha6usrnn8D",
        "outputId": "d64b3a55-2f92-467a-998e-ffa24bd2712e"
      },
      "execution_count": null,
      "outputs": [
        {
          "output_type": "execute_result",
          "data": {
            "text/plain": [
              "torch.Size([1201, 5])"
            ]
          },
          "metadata": {},
          "execution_count": 74
        }
      ]
    },
    {
      "cell_type": "code",
      "source": [
        "### Performiin a train test split\n",
        "batch_size=1200\n",
        "test_size=int(batch_size*0.15)\n",
        "train_categorical=cat_features[:batch_size-test_size]\n",
        "test_categorical=cat_features[batch_size-test_size:batch_size]\n",
        "train_cont=cont_values[:batch_size-test_size]\n",
        "test_cont=cont_values[batch_size-test_size:batch_size]\n",
        "y_train=y[:batch_size-test_size]\n",
        "y_test=y[batch_size-test_size:batch_size]"
      ],
      "metadata": {
        "id": "_VQPJX_1npqn"
      },
      "execution_count": null,
      "outputs": []
    },
    {
      "cell_type": "code",
      "source": [
        "len(train_categorical),len(test_categorical),len(train_cont),len(test_cont),len(y_train),len(y_test)"
      ],
      "metadata": {
        "colab": {
          "base_uri": "https://localhost:8080/"
        },
        "id": "8-5mca9Q7cn2",
        "outputId": "c512e7b7-1dfb-42cf-9ffc-e262ee10d158"
      },
      "execution_count": null,
      "outputs": [
        {
          "output_type": "execute_result",
          "data": {
            "text/plain": [
              "(1020, 180, 1020, 180, 1020, 180)"
            ]
          },
          "metadata": {},
          "execution_count": 76
        }
      ]
    },
    {
      "cell_type": "code",
      "source": [
        "### The process of training\n",
        "epochs=5000\n",
        "final_losses=[]\n",
        "for i in range(epochs):\n",
        "  i=i+1\n",
        "  y_pred=model(train_categorical,train_cont)\n",
        "  loss=torch.sqrt(loss_function(y_pred,y_train))   ### RMSE\n",
        "  final_losses.append(loss.detach().numpy())\n",
        "\n",
        "  if i%10==0:\n",
        "      print(\"Epoch number:{} with the loss: {}\".format(i,loss.item()))\n",
        "\n",
        "  optimizer.zero_grad()\n",
        "  loss.backward()    ### backpropagation\n",
        "  optimizer.step()"
      ],
      "metadata": {
        "colab": {
          "base_uri": "https://localhost:8080/"
        },
        "id": "Fqrry50k7oB0",
        "outputId": "b5f65383-ac02-4bc4-ae4d-36dedeef5152"
      },
      "execution_count": null,
      "outputs": [
        {
          "output_type": "stream",
          "name": "stdout",
          "text": [
            "Epoch number:10 with the loss: 200493.8125\n",
            "Epoch number:20 with the loss: 200489.59375\n",
            "Epoch number:30 with the loss: 200483.25\n",
            "Epoch number:40 with the loss: 200474.3125\n",
            "Epoch number:50 with the loss: 200462.6875\n",
            "Epoch number:60 with the loss: 200448.3125\n",
            "Epoch number:70 with the loss: 200430.15625\n",
            "Epoch number:80 with the loss: 200410.375\n",
            "Epoch number:90 with the loss: 200386.671875\n",
            "Epoch number:100 with the loss: 200359.375\n",
            "Epoch number:110 with the loss: 200323.6875\n",
            "Epoch number:120 with the loss: 200294.671875\n",
            "Epoch number:130 with the loss: 200256.421875\n",
            "Epoch number:140 with the loss: 200215.71875\n",
            "Epoch number:150 with the loss: 200171.046875\n",
            "Epoch number:160 with the loss: 200115.78125\n",
            "Epoch number:170 with the loss: 200070.484375\n",
            "Epoch number:180 with the loss: 200012.21875\n",
            "Epoch number:190 with the loss: 199951.703125\n",
            "Epoch number:200 with the loss: 199879.984375\n",
            "Epoch number:210 with the loss: 199820.09375\n",
            "Epoch number:220 with the loss: 199750.390625\n",
            "Epoch number:230 with the loss: 199682.375\n",
            "Epoch number:240 with the loss: 199593.328125\n",
            "Epoch number:250 with the loss: 199508.71875\n",
            "Epoch number:260 with the loss: 199418.140625\n",
            "Epoch number:270 with the loss: 199351.40625\n",
            "Epoch number:280 with the loss: 199231.375\n",
            "Epoch number:290 with the loss: 199145.546875\n",
            "Epoch number:300 with the loss: 199063.015625\n",
            "Epoch number:310 with the loss: 198940.53125\n",
            "Epoch number:320 with the loss: 198836.046875\n",
            "Epoch number:330 with the loss: 198749.546875\n",
            "Epoch number:340 with the loss: 198622.765625\n",
            "Epoch number:350 with the loss: 198516.9375\n",
            "Epoch number:360 with the loss: 198382.734375\n",
            "Epoch number:370 with the loss: 198246.375\n",
            "Epoch number:380 with the loss: 198109.328125\n",
            "Epoch number:390 with the loss: 198004.078125\n",
            "Epoch number:400 with the loss: 197871.796875\n",
            "Epoch number:410 with the loss: 197754.25\n",
            "Epoch number:420 with the loss: 197595.1875\n",
            "Epoch number:430 with the loss: 197451.828125\n",
            "Epoch number:440 with the loss: 197257.140625\n",
            "Epoch number:450 with the loss: 197148.671875\n",
            "Epoch number:460 with the loss: 197003.453125\n",
            "Epoch number:470 with the loss: 196919.078125\n",
            "Epoch number:480 with the loss: 196665.828125\n",
            "Epoch number:490 with the loss: 196572.90625\n",
            "Epoch number:500 with the loss: 196368.140625\n",
            "Epoch number:510 with the loss: 196133.625\n",
            "Epoch number:520 with the loss: 196012.890625\n",
            "Epoch number:530 with the loss: 195944.015625\n",
            "Epoch number:540 with the loss: 195678.859375\n",
            "Epoch number:550 with the loss: 195536.078125\n",
            "Epoch number:560 with the loss: 195333.34375\n",
            "Epoch number:570 with the loss: 195072.46875\n",
            "Epoch number:580 with the loss: 194862.140625\n",
            "Epoch number:590 with the loss: 194714.34375\n",
            "Epoch number:600 with the loss: 194617.890625\n",
            "Epoch number:610 with the loss: 194297.578125\n",
            "Epoch number:620 with the loss: 194167.125\n",
            "Epoch number:630 with the loss: 193914.046875\n",
            "Epoch number:640 with the loss: 193741.515625\n",
            "Epoch number:650 with the loss: 193477.234375\n",
            "Epoch number:660 with the loss: 193275.96875\n",
            "Epoch number:670 with the loss: 193119.3125\n",
            "Epoch number:680 with the loss: 192853.78125\n",
            "Epoch number:690 with the loss: 192673.109375\n",
            "Epoch number:700 with the loss: 192397.109375\n",
            "Epoch number:710 with the loss: 192119.921875\n",
            "Epoch number:720 with the loss: 191985.8125\n",
            "Epoch number:730 with the loss: 191636.234375\n",
            "Epoch number:740 with the loss: 191452.3125\n",
            "Epoch number:750 with the loss: 191335.25\n",
            "Epoch number:760 with the loss: 190994.75\n",
            "Epoch number:770 with the loss: 190800.375\n",
            "Epoch number:780 with the loss: 190541.828125\n",
            "Epoch number:790 with the loss: 190277.84375\n",
            "Epoch number:800 with the loss: 190109.375\n",
            "Epoch number:810 with the loss: 189787.40625\n",
            "Epoch number:820 with the loss: 189489.40625\n",
            "Epoch number:830 with the loss: 189357.3125\n",
            "Epoch number:840 with the loss: 189009.171875\n",
            "Epoch number:850 with the loss: 188673.5625\n",
            "Epoch number:860 with the loss: 188465.015625\n",
            "Epoch number:870 with the loss: 188003.390625\n",
            "Epoch number:880 with the loss: 187782.078125\n",
            "Epoch number:890 with the loss: 187545.484375\n",
            "Epoch number:900 with the loss: 187450.078125\n",
            "Epoch number:910 with the loss: 187147.0625\n",
            "Epoch number:920 with the loss: 186713.0625\n",
            "Epoch number:930 with the loss: 186484.484375\n",
            "Epoch number:940 with the loss: 186304.53125\n",
            "Epoch number:950 with the loss: 185905.078125\n",
            "Epoch number:960 with the loss: 185612.796875\n",
            "Epoch number:970 with the loss: 185474.78125\n",
            "Epoch number:980 with the loss: 185022.5625\n",
            "Epoch number:990 with the loss: 184782.96875\n",
            "Epoch number:1000 with the loss: 184551.3125\n",
            "Epoch number:1010 with the loss: 184049.578125\n",
            "Epoch number:1020 with the loss: 183792.5625\n",
            "Epoch number:1030 with the loss: 183458.40625\n",
            "Epoch number:1040 with the loss: 183253.5625\n",
            "Epoch number:1050 with the loss: 182829.28125\n",
            "Epoch number:1060 with the loss: 182506.625\n",
            "Epoch number:1070 with the loss: 182101.546875\n",
            "Epoch number:1080 with the loss: 182045.90625\n",
            "Epoch number:1090 with the loss: 181373.0\n",
            "Epoch number:1100 with the loss: 180949.28125\n",
            "Epoch number:1110 with the loss: 181093.703125\n",
            "Epoch number:1120 with the loss: 180654.03125\n",
            "Epoch number:1130 with the loss: 180147.4375\n",
            "Epoch number:1140 with the loss: 179960.625\n",
            "Epoch number:1150 with the loss: 179368.046875\n",
            "Epoch number:1160 with the loss: 179395.46875\n",
            "Epoch number:1170 with the loss: 178970.296875\n",
            "Epoch number:1180 with the loss: 178543.625\n",
            "Epoch number:1190 with the loss: 178257.25\n",
            "Epoch number:1200 with the loss: 177596.375\n",
            "Epoch number:1210 with the loss: 177549.140625\n",
            "Epoch number:1220 with the loss: 177193.15625\n",
            "Epoch number:1230 with the loss: 177175.1875\n",
            "Epoch number:1240 with the loss: 176561.0625\n",
            "Epoch number:1250 with the loss: 175925.484375\n",
            "Epoch number:1260 with the loss: 175547.765625\n",
            "Epoch number:1270 with the loss: 175348.734375\n",
            "Epoch number:1280 with the loss: 174822.890625\n",
            "Epoch number:1290 with the loss: 174535.078125\n",
            "Epoch number:1300 with the loss: 174000.828125\n",
            "Epoch number:1310 with the loss: 173911.859375\n",
            "Epoch number:1320 with the loss: 173547.578125\n",
            "Epoch number:1330 with the loss: 173278.828125\n",
            "Epoch number:1340 with the loss: 172828.15625\n",
            "Epoch number:1350 with the loss: 172432.734375\n",
            "Epoch number:1360 with the loss: 172324.71875\n",
            "Epoch number:1370 with the loss: 171459.140625\n",
            "Epoch number:1380 with the loss: 170985.890625\n",
            "Epoch number:1390 with the loss: 170500.859375\n",
            "Epoch number:1400 with the loss: 170259.4375\n",
            "Epoch number:1410 with the loss: 170103.6875\n",
            "Epoch number:1420 with the loss: 169732.765625\n",
            "Epoch number:1430 with the loss: 169004.421875\n",
            "Epoch number:1440 with the loss: 168851.59375\n",
            "Epoch number:1450 with the loss: 168705.203125\n",
            "Epoch number:1460 with the loss: 167715.796875\n",
            "Epoch number:1470 with the loss: 167799.1875\n",
            "Epoch number:1480 with the loss: 167081.546875\n",
            "Epoch number:1490 with the loss: 167524.453125\n",
            "Epoch number:1500 with the loss: 166260.96875\n",
            "Epoch number:1510 with the loss: 165814.84375\n",
            "Epoch number:1520 with the loss: 165809.046875\n",
            "Epoch number:1530 with the loss: 165511.234375\n",
            "Epoch number:1540 with the loss: 164618.59375\n",
            "Epoch number:1550 with the loss: 164322.46875\n",
            "Epoch number:1560 with the loss: 163780.21875\n",
            "Epoch number:1570 with the loss: 163499.84375\n",
            "Epoch number:1580 with the loss: 163054.15625\n",
            "Epoch number:1590 with the loss: 162413.609375\n",
            "Epoch number:1600 with the loss: 162154.171875\n",
            "Epoch number:1610 with the loss: 161558.640625\n",
            "Epoch number:1620 with the loss: 160682.046875\n",
            "Epoch number:1630 with the loss: 160579.6875\n",
            "Epoch number:1640 with the loss: 160455.109375\n",
            "Epoch number:1650 with the loss: 160204.40625\n",
            "Epoch number:1660 with the loss: 159642.515625\n",
            "Epoch number:1670 with the loss: 159446.53125\n",
            "Epoch number:1680 with the loss: 158825.3125\n",
            "Epoch number:1690 with the loss: 158212.65625\n",
            "Epoch number:1700 with the loss: 157510.9375\n",
            "Epoch number:1710 with the loss: 157391.9375\n",
            "Epoch number:1720 with the loss: 156737.671875\n",
            "Epoch number:1730 with the loss: 156437.28125\n",
            "Epoch number:1740 with the loss: 155917.9375\n",
            "Epoch number:1750 with the loss: 155422.890625\n",
            "Epoch number:1760 with the loss: 155350.734375\n",
            "Epoch number:1770 with the loss: 154792.46875\n",
            "Epoch number:1780 with the loss: 154691.1875\n",
            "Epoch number:1790 with the loss: 153802.890625\n",
            "Epoch number:1800 with the loss: 153690.84375\n",
            "Epoch number:1810 with the loss: 152641.890625\n",
            "Epoch number:1820 with the loss: 152739.921875\n",
            "Epoch number:1830 with the loss: 152424.671875\n",
            "Epoch number:1840 with the loss: 151286.28125\n",
            "Epoch number:1850 with the loss: 150555.140625\n",
            "Epoch number:1860 with the loss: 150517.8125\n",
            "Epoch number:1870 with the loss: 150118.28125\n",
            "Epoch number:1880 with the loss: 149417.765625\n",
            "Epoch number:1890 with the loss: 148952.40625\n",
            "Epoch number:1900 with the loss: 149227.84375\n",
            "Epoch number:1910 with the loss: 147929.90625\n",
            "Epoch number:1920 with the loss: 147645.15625\n",
            "Epoch number:1930 with the loss: 147561.359375\n",
            "Epoch number:1940 with the loss: 146673.921875\n",
            "Epoch number:1950 with the loss: 146635.0\n",
            "Epoch number:1960 with the loss: 145780.828125\n",
            "Epoch number:1970 with the loss: 145532.203125\n",
            "Epoch number:1980 with the loss: 145084.46875\n",
            "Epoch number:1990 with the loss: 144529.125\n",
            "Epoch number:2000 with the loss: 143624.109375\n",
            "Epoch number:2010 with the loss: 144073.09375\n",
            "Epoch number:2020 with the loss: 142961.265625\n",
            "Epoch number:2030 with the loss: 143028.25\n",
            "Epoch number:2040 with the loss: 141684.015625\n",
            "Epoch number:2050 with the loss: 141438.453125\n",
            "Epoch number:2060 with the loss: 141399.328125\n",
            "Epoch number:2070 with the loss: 139705.625\n",
            "Epoch number:2080 with the loss: 140178.328125\n",
            "Epoch number:2090 with the loss: 140116.875\n",
            "Epoch number:2100 with the loss: 139455.640625\n",
            "Epoch number:2110 with the loss: 138530.28125\n",
            "Epoch number:2120 with the loss: 138361.40625\n",
            "Epoch number:2130 with the loss: 137547.640625\n",
            "Epoch number:2140 with the loss: 137339.625\n",
            "Epoch number:2150 with the loss: 136787.4375\n",
            "Epoch number:2160 with the loss: 136337.65625\n",
            "Epoch number:2170 with the loss: 135983.5\n",
            "Epoch number:2180 with the loss: 135103.8125\n",
            "Epoch number:2190 with the loss: 135295.0625\n",
            "Epoch number:2200 with the loss: 134929.578125\n",
            "Epoch number:2210 with the loss: 133757.53125\n",
            "Epoch number:2220 with the loss: 133440.671875\n",
            "Epoch number:2230 with the loss: 132691.34375\n",
            "Epoch number:2240 with the loss: 132358.90625\n",
            "Epoch number:2250 with the loss: 131386.015625\n",
            "Epoch number:2260 with the loss: 131144.828125\n",
            "Epoch number:2270 with the loss: 130504.9296875\n",
            "Epoch number:2280 with the loss: 130311.3515625\n",
            "Epoch number:2290 with the loss: 129330.15625\n",
            "Epoch number:2300 with the loss: 129116.296875\n",
            "Epoch number:2310 with the loss: 129012.328125\n",
            "Epoch number:2320 with the loss: 128571.59375\n",
            "Epoch number:2330 with the loss: 127826.5234375\n",
            "Epoch number:2340 with the loss: 126967.8515625\n",
            "Epoch number:2350 with the loss: 128497.171875\n",
            "Epoch number:2360 with the loss: 126565.9375\n",
            "Epoch number:2370 with the loss: 126613.0859375\n",
            "Epoch number:2380 with the loss: 125199.2890625\n",
            "Epoch number:2390 with the loss: 125710.6953125\n",
            "Epoch number:2400 with the loss: 123576.4453125\n",
            "Epoch number:2410 with the loss: 123526.2734375\n",
            "Epoch number:2420 with the loss: 123264.96875\n",
            "Epoch number:2430 with the loss: 123307.5546875\n",
            "Epoch number:2440 with the loss: 121884.6640625\n",
            "Epoch number:2450 with the loss: 121082.9140625\n",
            "Epoch number:2460 with the loss: 121544.421875\n",
            "Epoch number:2470 with the loss: 121132.953125\n",
            "Epoch number:2480 with the loss: 120223.7109375\n",
            "Epoch number:2490 with the loss: 120057.8046875\n",
            "Epoch number:2500 with the loss: 119699.4375\n",
            "Epoch number:2510 with the loss: 118446.40625\n",
            "Epoch number:2520 with the loss: 118192.03125\n",
            "Epoch number:2530 with the loss: 117824.015625\n",
            "Epoch number:2540 with the loss: 117094.34375\n",
            "Epoch number:2550 with the loss: 116531.7265625\n",
            "Epoch number:2560 with the loss: 116227.96875\n",
            "Epoch number:2570 with the loss: 115475.3515625\n",
            "Epoch number:2580 with the loss: 115031.0234375\n",
            "Epoch number:2590 with the loss: 114064.3828125\n",
            "Epoch number:2600 with the loss: 113402.3203125\n",
            "Epoch number:2610 with the loss: 113279.21875\n",
            "Epoch number:2620 with the loss: 112459.6640625\n",
            "Epoch number:2630 with the loss: 112880.7109375\n",
            "Epoch number:2640 with the loss: 111794.7890625\n",
            "Epoch number:2650 with the loss: 113408.2734375\n",
            "Epoch number:2660 with the loss: 113523.4375\n",
            "Epoch number:2670 with the loss: 110956.109375\n",
            "Epoch number:2680 with the loss: 110864.5546875\n",
            "Epoch number:2690 with the loss: 109589.015625\n",
            "Epoch number:2700 with the loss: 108778.2734375\n",
            "Epoch number:2710 with the loss: 108045.328125\n",
            "Epoch number:2720 with the loss: 107448.6015625\n",
            "Epoch number:2730 with the loss: 108189.6015625\n",
            "Epoch number:2740 with the loss: 106381.109375\n",
            "Epoch number:2750 with the loss: 107764.328125\n",
            "Epoch number:2760 with the loss: 106579.1953125\n",
            "Epoch number:2770 with the loss: 106256.8046875\n",
            "Epoch number:2780 with the loss: 105264.3515625\n",
            "Epoch number:2790 with the loss: 104619.9921875\n",
            "Epoch number:2800 with the loss: 104020.21875\n",
            "Epoch number:2810 with the loss: 103439.734375\n",
            "Epoch number:2820 with the loss: 103496.421875\n",
            "Epoch number:2830 with the loss: 103226.7734375\n",
            "Epoch number:2840 with the loss: 102577.359375\n",
            "Epoch number:2850 with the loss: 101474.359375\n",
            "Epoch number:2860 with the loss: 101120.421875\n",
            "Epoch number:2870 with the loss: 101743.1796875\n",
            "Epoch number:2880 with the loss: 100521.2109375\n",
            "Epoch number:2890 with the loss: 100130.0078125\n",
            "Epoch number:2900 with the loss: 99788.3828125\n",
            "Epoch number:2910 with the loss: 99661.15625\n",
            "Epoch number:2920 with the loss: 98367.2265625\n",
            "Epoch number:2930 with the loss: 97241.359375\n",
            "Epoch number:2940 with the loss: 98793.7265625\n",
            "Epoch number:2950 with the loss: 97254.09375\n",
            "Epoch number:2960 with the loss: 96665.1640625\n",
            "Epoch number:2970 with the loss: 96154.9140625\n",
            "Epoch number:2980 with the loss: 95308.171875\n",
            "Epoch number:2990 with the loss: 94635.46875\n",
            "Epoch number:3000 with the loss: 94573.640625\n",
            "Epoch number:3010 with the loss: 94383.0546875\n",
            "Epoch number:3020 with the loss: 93292.21875\n",
            "Epoch number:3030 with the loss: 93565.8203125\n",
            "Epoch number:3040 with the loss: 93025.5234375\n",
            "Epoch number:3050 with the loss: 92525.0546875\n",
            "Epoch number:3060 with the loss: 91640.265625\n",
            "Epoch number:3070 with the loss: 90934.5234375\n",
            "Epoch number:3080 with the loss: 90028.6796875\n",
            "Epoch number:3090 with the loss: 89755.609375\n",
            "Epoch number:3100 with the loss: 89641.0859375\n",
            "Epoch number:3110 with the loss: 88905.6328125\n",
            "Epoch number:3120 with the loss: 88908.3671875\n",
            "Epoch number:3130 with the loss: 87191.8125\n",
            "Epoch number:3140 with the loss: 87460.5859375\n",
            "Epoch number:3150 with the loss: 86969.7265625\n",
            "Epoch number:3160 with the loss: 85927.0703125\n",
            "Epoch number:3170 with the loss: 88323.6953125\n",
            "Epoch number:3180 with the loss: 85495.3984375\n",
            "Epoch number:3190 with the loss: 86294.234375\n",
            "Epoch number:3200 with the loss: 84366.9140625\n",
            "Epoch number:3210 with the loss: 83455.8671875\n",
            "Epoch number:3220 with the loss: 84094.7421875\n",
            "Epoch number:3230 with the loss: 83705.3515625\n",
            "Epoch number:3240 with the loss: 82376.6328125\n",
            "Epoch number:3250 with the loss: 82359.4453125\n",
            "Epoch number:3260 with the loss: 81917.796875\n",
            "Epoch number:3270 with the loss: 81067.1171875\n",
            "Epoch number:3280 with the loss: 81775.0\n",
            "Epoch number:3290 with the loss: 80253.0625\n",
            "Epoch number:3300 with the loss: 79614.2890625\n",
            "Epoch number:3310 with the loss: 79555.765625\n",
            "Epoch number:3320 with the loss: 78217.6328125\n",
            "Epoch number:3330 with the loss: 79144.9296875\n",
            "Epoch number:3340 with the loss: 77027.3125\n",
            "Epoch number:3350 with the loss: 76880.2109375\n",
            "Epoch number:3360 with the loss: 77325.3046875\n",
            "Epoch number:3370 with the loss: 75843.8046875\n",
            "Epoch number:3380 with the loss: 75839.8671875\n",
            "Epoch number:3390 with the loss: 76462.234375\n",
            "Epoch number:3400 with the loss: 74384.859375\n",
            "Epoch number:3410 with the loss: 74872.8046875\n",
            "Epoch number:3420 with the loss: 74229.0\n",
            "Epoch number:3430 with the loss: 72770.1328125\n",
            "Epoch number:3440 with the loss: 73324.984375\n",
            "Epoch number:3450 with the loss: 72805.1328125\n",
            "Epoch number:3460 with the loss: 71460.9765625\n",
            "Epoch number:3470 with the loss: 72685.9375\n",
            "Epoch number:3480 with the loss: 71302.53125\n",
            "Epoch number:3490 with the loss: 70527.9765625\n",
            "Epoch number:3500 with the loss: 69905.1328125\n",
            "Epoch number:3510 with the loss: 69301.40625\n",
            "Epoch number:3520 with the loss: 68462.3125\n",
            "Epoch number:3530 with the loss: 68015.609375\n",
            "Epoch number:3540 with the loss: 67303.828125\n",
            "Epoch number:3550 with the loss: 67836.5546875\n",
            "Epoch number:3560 with the loss: 66773.484375\n",
            "Epoch number:3570 with the loss: 66328.6171875\n",
            "Epoch number:3580 with the loss: 65950.40625\n",
            "Epoch number:3590 with the loss: 66438.9765625\n",
            "Epoch number:3600 with the loss: 66505.3828125\n",
            "Epoch number:3610 with the loss: 65231.875\n",
            "Epoch number:3620 with the loss: 66603.2109375\n",
            "Epoch number:3630 with the loss: 62960.1953125\n",
            "Epoch number:3640 with the loss: 62608.94921875\n",
            "Epoch number:3650 with the loss: 63398.87890625\n",
            "Epoch number:3660 with the loss: 61742.84765625\n",
            "Epoch number:3670 with the loss: 61617.75390625\n",
            "Epoch number:3680 with the loss: 59865.39453125\n",
            "Epoch number:3690 with the loss: 61282.58984375\n",
            "Epoch number:3700 with the loss: 60770.6640625\n",
            "Epoch number:3710 with the loss: 63389.6953125\n",
            "Epoch number:3720 with the loss: 59579.5390625\n",
            "Epoch number:3730 with the loss: 59725.61328125\n",
            "Epoch number:3740 with the loss: 57743.21875\n",
            "Epoch number:3750 with the loss: 57912.6796875\n",
            "Epoch number:3760 with the loss: 57837.94921875\n",
            "Epoch number:3770 with the loss: 57291.4375\n",
            "Epoch number:3780 with the loss: 57677.58203125\n",
            "Epoch number:3790 with the loss: 57686.98828125\n",
            "Epoch number:3800 with the loss: 56175.9609375\n",
            "Epoch number:3810 with the loss: 55391.70703125\n",
            "Epoch number:3820 with the loss: 56485.48046875\n",
            "Epoch number:3830 with the loss: 54320.3515625\n",
            "Epoch number:3840 with the loss: 59060.93359375\n",
            "Epoch number:3850 with the loss: 55972.44921875\n",
            "Epoch number:3860 with the loss: 54080.734375\n",
            "Epoch number:3870 with the loss: 52010.27734375\n",
            "Epoch number:3880 with the loss: 50953.9765625\n",
            "Epoch number:3890 with the loss: 51200.99609375\n",
            "Epoch number:3900 with the loss: 52749.58203125\n",
            "Epoch number:3910 with the loss: 51320.16796875\n",
            "Epoch number:3920 with the loss: 52047.41015625\n",
            "Epoch number:3930 with the loss: 51114.3046875\n",
            "Epoch number:3940 with the loss: 50347.11328125\n",
            "Epoch number:3950 with the loss: 50229.98046875\n",
            "Epoch number:3960 with the loss: 50522.76953125\n",
            "Epoch number:3970 with the loss: 48693.01171875\n",
            "Epoch number:3980 with the loss: 52268.73828125\n",
            "Epoch number:3990 with the loss: 48671.828125\n",
            "Epoch number:4000 with the loss: 48102.79296875\n",
            "Epoch number:4010 with the loss: 47955.671875\n",
            "Epoch number:4020 with the loss: 49444.28515625\n",
            "Epoch number:4030 with the loss: 47476.80078125\n",
            "Epoch number:4040 with the loss: 48873.234375\n",
            "Epoch number:4050 with the loss: 45899.3515625\n",
            "Epoch number:4060 with the loss: 47088.0703125\n",
            "Epoch number:4070 with the loss: 46051.7109375\n",
            "Epoch number:4080 with the loss: 46244.046875\n",
            "Epoch number:4090 with the loss: 44957.42578125\n",
            "Epoch number:4100 with the loss: 43664.76171875\n",
            "Epoch number:4110 with the loss: 44996.390625\n",
            "Epoch number:4120 with the loss: 43211.5078125\n",
            "Epoch number:4130 with the loss: 44438.51953125\n",
            "Epoch number:4140 with the loss: 43568.1640625\n",
            "Epoch number:4150 with the loss: 44608.4453125\n",
            "Epoch number:4160 with the loss: 44254.8046875\n",
            "Epoch number:4170 with the loss: 41650.5703125\n",
            "Epoch number:4180 with the loss: 41835.27734375\n",
            "Epoch number:4190 with the loss: 43977.6796875\n",
            "Epoch number:4200 with the loss: 42294.10546875\n",
            "Epoch number:4210 with the loss: 40336.8359375\n",
            "Epoch number:4220 with the loss: 40614.67578125\n",
            "Epoch number:4230 with the loss: 41309.02734375\n",
            "Epoch number:4240 with the loss: 45015.6796875\n",
            "Epoch number:4250 with the loss: 42644.984375\n",
            "Epoch number:4260 with the loss: 41963.37890625\n",
            "Epoch number:4270 with the loss: 39638.8359375\n",
            "Epoch number:4280 with the loss: 41635.19140625\n",
            "Epoch number:4290 with the loss: 42679.75\n",
            "Epoch number:4300 with the loss: 42591.23828125\n",
            "Epoch number:4310 with the loss: 38755.23046875\n",
            "Epoch number:4320 with the loss: 38323.49609375\n",
            "Epoch number:4330 with the loss: 38916.40234375\n",
            "Epoch number:4340 with the loss: 38585.18359375\n",
            "Epoch number:4350 with the loss: 39296.921875\n",
            "Epoch number:4360 with the loss: 40135.5859375\n",
            "Epoch number:4370 with the loss: 39061.55859375\n",
            "Epoch number:4380 with the loss: 38882.83203125\n",
            "Epoch number:4390 with the loss: 37240.828125\n",
            "Epoch number:4400 with the loss: 37968.58203125\n",
            "Epoch number:4410 with the loss: 38917.61328125\n",
            "Epoch number:4420 with the loss: 38084.79296875\n",
            "Epoch number:4430 with the loss: 36444.1328125\n",
            "Epoch number:4440 with the loss: 38261.7578125\n",
            "Epoch number:4450 with the loss: 39231.8515625\n",
            "Epoch number:4460 with the loss: 37481.62890625\n",
            "Epoch number:4470 with the loss: 36694.2421875\n",
            "Epoch number:4480 with the loss: 36421.46484375\n",
            "Epoch number:4490 with the loss: 38676.6640625\n",
            "Epoch number:4500 with the loss: 37200.0078125\n",
            "Epoch number:4510 with the loss: 37232.10546875\n",
            "Epoch number:4520 with the loss: 37576.12109375\n",
            "Epoch number:4530 with the loss: 38469.66015625\n",
            "Epoch number:4540 with the loss: 35134.9140625\n",
            "Epoch number:4550 with the loss: 37143.25390625\n",
            "Epoch number:4560 with the loss: 35809.18359375\n",
            "Epoch number:4570 with the loss: 36869.78515625\n",
            "Epoch number:4580 with the loss: 37030.59765625\n",
            "Epoch number:4590 with the loss: 35804.265625\n",
            "Epoch number:4600 with the loss: 37051.265625\n",
            "Epoch number:4610 with the loss: 36335.546875\n",
            "Epoch number:4620 with the loss: 36540.10546875\n",
            "Epoch number:4630 with the loss: 33965.69921875\n",
            "Epoch number:4640 with the loss: 35586.7578125\n",
            "Epoch number:4650 with the loss: 36753.28515625\n",
            "Epoch number:4660 with the loss: 36680.84375\n",
            "Epoch number:4670 with the loss: 36010.96875\n",
            "Epoch number:4680 with the loss: 34549.6875\n",
            "Epoch number:4690 with the loss: 37067.640625\n",
            "Epoch number:4700 with the loss: 37370.02734375\n",
            "Epoch number:4710 with the loss: 35873.95703125\n",
            "Epoch number:4720 with the loss: 36449.3046875\n",
            "Epoch number:4730 with the loss: 34992.2890625\n",
            "Epoch number:4740 with the loss: 36643.70703125\n",
            "Epoch number:4750 with the loss: 35506.30859375\n",
            "Epoch number:4760 with the loss: 36389.1328125\n",
            "Epoch number:4770 with the loss: 36032.19140625\n",
            "Epoch number:4780 with the loss: 35031.51953125\n",
            "Epoch number:4790 with the loss: 34350.58203125\n",
            "Epoch number:4800 with the loss: 35209.6640625\n",
            "Epoch number:4810 with the loss: 36994.84765625\n",
            "Epoch number:4820 with the loss: 37549.09765625\n",
            "Epoch number:4830 with the loss: 35412.109375\n",
            "Epoch number:4840 with the loss: 35192.58984375\n",
            "Epoch number:4850 with the loss: 33869.02734375\n",
            "Epoch number:4860 with the loss: 36104.54296875\n",
            "Epoch number:4870 with the loss: 34352.75390625\n",
            "Epoch number:4880 with the loss: 34981.359375\n",
            "Epoch number:4890 with the loss: 34649.125\n",
            "Epoch number:4900 with the loss: 35774.01171875\n",
            "Epoch number:4910 with the loss: 33957.375\n",
            "Epoch number:4920 with the loss: 35179.546875\n",
            "Epoch number:4930 with the loss: 35866.6328125\n",
            "Epoch number:4940 with the loss: 34817.89453125\n",
            "Epoch number:4950 with the loss: 35404.359375\n",
            "Epoch number:4960 with the loss: 34962.6484375\n",
            "Epoch number:4970 with the loss: 35391.07421875\n",
            "Epoch number:4980 with the loss: 35058.296875\n",
            "Epoch number:4990 with the loss: 36216.40234375\n",
            "Epoch number:5000 with the loss: 32685.798828125\n"
          ]
        }
      ]
    },
    {
      "cell_type": "code",
      "source": [
        "import matplotlib.pyplot as plt\n",
        "%matplotlib inline\n",
        "plt.plot(range(epochs),final_losses)\n",
        "plt.ylabel('RMSE Loss')\n",
        "plt.xlabel('Epochs')"
      ],
      "metadata": {
        "colab": {
          "base_uri": "https://localhost:8080/",
          "height": 466
        },
        "id": "TjwM3B7H8n66",
        "outputId": "633478b2-d5c6-4da3-9a0d-bae6090bae66"
      },
      "execution_count": null,
      "outputs": [
        {
          "output_type": "execute_result",
          "data": {
            "text/plain": [
              "Text(0.5, 0, 'Epochs')"
            ]
          },
          "metadata": {},
          "execution_count": 78
        },
        {
          "output_type": "display_data",
          "data": {
            "text/plain": [
              "<Figure size 640x480 with 1 Axes>"
            ],
            "image/png": "[encoded data removed]"
          },
          "metadata": {}
        }
      ]
    },
    {
      "cell_type": "code",
      "source": [
        "### Validate the test data\n",
        "y_pred=\"\"\n",
        "with torch.no_grad():\n",
        "  y_pred=model(test_categorical,test_cont)\n",
        "  loss=torch.sqrt(loss_function(y_pred,y_test))\n",
        "print('RMSE: {}'.format(loss))"
      ],
      "metadata": {
        "colab": {
          "base_uri": "https://localhost:8080/"
        },
        "id": "e-Nomyi7ANl6",
        "outputId": "06a106b6-676d-4b47-9162-17c31bf1950f"
      },
      "execution_count": null,
      "outputs": [
        {
          "output_type": "stream",
          "name": "stdout",
          "text": [
            "RMSE: 43376.609375\n"
          ]
        }
      ]
    },
    {
      "cell_type": "code",
      "source": [
        "data_verify=pd.DataFrame(y_test.tolist(),columns=['Test'])"
      ],
      "metadata": {
        "id": "itM8mGy9DZ2Y"
      },
      "execution_count": null,
      "outputs": []
    },
    {
      "cell_type": "code",
      "source": [
        "data_predicted=pd.DataFrame(y_pred.tolist(),columns=[\"Prediction\"])"
      ],
      "metadata": {
        "id": "amjsOl1WD2JH"
      },
      "execution_count": null,
      "outputs": []
    },
    {
      "cell_type": "code",
      "source": [
        "final_output=pd.concat([data_verify,data_predicted],axis=1)\n",
        "final_output['Difference']=final_output['Test']-final_output['Prediction']\n",
        "final_output.head()"
      ],
      "metadata": {
        "colab": {
          "base_uri": "https://localhost:8080/",
          "height": 206
        },
        "id": "Q6oxuasrD6ZO",
        "outputId": "a99d1751-656b-4203-fc3a-c94f95746995"
      },
      "execution_count": null,
      "outputs": [
        {
          "output_type": "execute_result",
          "data": {
            "text/plain": [
              "       Test    Prediction   Difference\n",
              "0  130000.0  128257.15625   1742.84375\n",
              "1  138887.0  203703.12500 -64816.12500\n",
              "2  175500.0  170906.62500   4593.37500\n",
              "3  195000.0  233781.15625 -38781.15625\n",
              "4  142500.0  215435.09375 -72935.09375"
            ],
            "text/html": [
              "\n",
              "  <div id=\"df-ec43dba0-91d9-4a52-b860-502fcfd8f5fd\" class=\"colab-df-container\">\n",
              "    <div>\n",
              "<style scoped>\n",
              "    .dataframe tbody tr th:only-of-type {\n",
              "        vertical-align: middle;\n",
              "    }\n",
              "\n",
              "    .dataframe tbody tr th {\n",
              "        vertical-align: top;\n",
              "    }\n",
              "\n",
              "    .dataframe thead th {\n",
              "        text-align: right;\n",
              "    }\n",
              "</style>\n",
              "<table border=\"1\" class=\"dataframe\">\n",
              "  <thead>\n",
              "    <tr style=\"text-align: right;\">\n",
              "      <th></th>\n",
              "      <th>Test</th>\n",
              "      <th>Prediction</th>\n",
              "      <th>Difference</th>\n",
              "    </tr>\n",
              "  </thead>\n",
              "  <tbody>\n",
              "    <tr>\n",
              "      <th>0</th>\n",
              "      <td>130000.0</td>\n",
              "      <td>128257.15625</td>\n",
              "      <td>1742.84375</td>\n",
              "    </tr>\n",
              "    <tr>\n",
              "      <th>1</th>\n",
              "      <td>138887.0</td>\n",
              "      <td>203703.12500</td>\n",
              "      <td>-64816.12500</td>\n",
              "    </tr>\n",
              "    <tr>\n",
              "      <th>2</th>\n",
              "      <td>175500.0</td>\n",
              "      <td>170906.62500</td>\n",
              "      <td>4593.37500</td>\n",
              "    </tr>\n",
              "    <tr>\n",
              "      <th>3</th>\n",
              "      <td>195000.0</td>\n",
              "      <td>233781.15625</td>\n",
              "      <td>-38781.15625</td>\n",
              "    </tr>\n",
              "    <tr>\n",
              "      <th>4</th>\n",
              "      <td>142500.0</td>\n",
              "      <td>215435.09375</td>\n",
              "      <td>-72935.09375</td>\n",
              "    </tr>\n",
              "  </tbody>\n",
              "</table>\n",
              "</div>\n",
              "    <div class=\"colab-df-buttons\">\n",
              "\n",
              "  <div class=\"colab-df-container\">\n",
              "    <button class=\"colab-df-convert\" onclick=\"convertToInteractive('df-ec43dba0-91d9-4a52-b860-502fcfd8f5fd')\"\n",
              "            title=\"Convert this dataframe to an interactive table.\"\n",
              "            style=\"display:none;\">\n",
              "\n",
              "  <svg xmlns=\"http://www.w3.org/2000/svg\" height=\"24px\" viewBox=\"0 -960 960 960\">\n",
              "    <path d=\"M120-120v-720h720v720H120Zm60-500h600v-160H180v160Zm220 220h160v-160H400v160Zm0 220h160v-160H400v160ZM180-400h160v-160H180v160Zm440 0h160v-160H620v160ZM180-180h160v-160H180v160Zm440 0h160v-160H620v160Z\"/>\n",
              "  </svg>\n",
              "    </button>\n",
              "\n",
              "  <style>\n",
              "    .colab-df-container {\n",
              "      display:flex;\n",
              "      gap: 12px;\n",
              "    }\n",
              "\n",
              "    .colab-df-convert {\n",
              "      background-color: #E8F0FE;\n",
              "      border: none;\n",
              "      border-radius: 50%;\n",
              "      cursor: pointer;\n",
              "      display: none;\n",
              "      fill: #1967D2;\n",
              "      height: 32px;\n",
              "      padding: 0 0 0 0;\n",
              "      width: 32px;\n",
              "    }\n",
              "\n",
              "    .colab-df-convert:hover {\n",
              "      background-color: #E2EBFA;\n",
              "      box-shadow: 0px 1px 2px rgba(60, 64, 67, 0.3), 0px 1px 3px 1px rgba(60, 64, 67, 0.15);\n",
              "      fill: #174EA6;\n",
              "    }\n",
              "\n",
              "    .colab-df-buttons div {\n",
              "      margin-bottom: 4px;\n",
              "    }\n",
              "\n",
              "    [theme=dark] .colab-df-convert {\n",
              "      background-color: #3B4455;\n",
              "      fill: #D2E3FC;\n",
              "    }\n",
              "\n",
              "    [theme=dark] .colab-df-convert:hover {\n",
              "      background-color: #434B5C;\n",
              "      box-shadow: 0px 1px 3px 1px rgba(0, 0, 0, 0.15);\n",
              "      filter: drop-shadow(0px 1px 2px rgba(0, 0, 0, 0.3));\n",
              "      fill: #FFFFFF;\n",
              "    }\n",
              "  </style>\n",
              "\n",
              "    <script>\n",
              "      const buttonEl =\n",
              "        document.querySelector('#df-ec43dba0-91d9-4a52-b860-502fcfd8f5fd button.colab-df-convert');\n",
              "      buttonEl.style.display =\n",
              "        google.colab.kernel.accessAllowed ? 'block' : 'none';\n",
              "\n",
              "      async function convertToInteractive(key) {\n",
              "        const element = document.querySelector('#df-ec43dba0-91d9-4a52-b860-502fcfd8f5fd');\n",
              "        const dataTable =\n",
              "          await google.colab.kernel.invokeFunction('convertToInteractive',\n",
              "                                                    [key], {});\n",
              "        if (!dataTable) return;\n",
              "\n",
              "        const docLinkHtml = 'Like what you see? Visit the ' +\n",
              "          '<a target=\"_blank\" href=https://colab.research.google.com/notebooks/data_table.ipynb>data table notebook</a>'\n",
              "          + ' to learn more about interactive tables.';\n",
              "        element.innerHTML = '';\n",
              "        dataTable['output_type'] = 'display_data';\n",
              "        await google.colab.output.renderOutput(dataTable, element);\n",
              "        const docLink = document.createElement('div');\n",
              "        docLink.innerHTML = docLinkHtml;\n",
              "        element.appendChild(docLink);\n",
              "      }\n",
              "    </script>\n",
              "  </div>\n",
              "\n",
              "\n",
              "<div id=\"df-49f226db-2ddc-4c7f-b37e-caed1706921a\">\n",
              "  <button class=\"colab-df-quickchart\" onclick=\"quickchart('df-49f226db-2ddc-4c7f-b37e-caed1706921a')\"\n",
              "            title=\"Suggest charts\"\n",
              "            style=\"display:none;\">\n",
              "\n",
              "<svg xmlns=\"http://www.w3.org/2000/svg\" height=\"24px\"viewBox=\"0 0 24 24\"\n",
              "     width=\"24px\">\n",
              "    <g>\n",
              "        <path d=\"M19 3H5c-1.1 0-2 .9-2 2v14c0 1.1.9 2 2 2h14c1.1 0 2-.9 2-2V5c0-1.1-.9-2-2-2zM9 17H7v-7h2v7zm4 0h-2V7h2v10zm4 0h-2v-4h2v4z\"/>\n",
              "    </g>\n",
              "</svg>\n",
              "  </button>\n",
              "\n",
              "<style>\n",
              "  .colab-df-quickchart {\n",
              "      --bg-color: #E8F0FE;\n",
              "      --fill-color: #1967D2;\n",
              "      --hover-bg-color: #E2EBFA;\n",
              "      --hover-fill-color: #174EA6;\n",
              "      --disabled-fill-color: #AAA;\n",
              "      --disabled-bg-color: #DDD;\n",
              "  }\n",
              "\n",
              "  [theme=dark] .colab-df-quickchart {\n",
              "      --bg-color: #3B4455;\n",
              "      --fill-color: #D2E3FC;\n",
              "      --hover-bg-color: #434B5C;\n",
              "      --hover-fill-color: #FFFFFF;\n",
              "      --disabled-bg-color: #3B4455;\n",
              "      --disabled-fill-color: #666;\n",
              "  }\n",
              "\n",
              "  .colab-df-quickchart {\n",
              "    background-color: var(--bg-color);\n",
              "    border: none;\n",
              "    border-radius: 50%;\n",
              "    cursor: pointer;\n",
              "    display: none;\n",
              "    fill: var(--fill-color);\n",
              "    height: 32px;\n",
              "    padding: 0;\n",
              "    width: 32px;\n",
              "  }\n",
              "\n",
              "  .colab-df-quickchart:hover {\n",
              "    background-color: var(--hover-bg-color);\n",
              "    box-shadow: 0 1px 2px rgba(60, 64, 67, 0.3), 0 1px 3px 1px rgba(60, 64, 67, 0.15);\n",
              "    fill: var(--button-hover-fill-color);\n",
              "  }\n",
              "\n",
              "  .colab-df-quickchart-complete:disabled,\n",
              "  .colab-df-quickchart-complete:disabled:hover {\n",
              "    background-color: var(--disabled-bg-color);\n",
              "    fill: var(--disabled-fill-color);\n",
              "    box-shadow: none;\n",
              "  }\n",
              "\n",
              "  .colab-df-spinner {\n",
              "    border: 2px solid var(--fill-color);\n",
              "    border-color: transparent;\n",
              "    border-bottom-color: var(--fill-color);\n",
              "    animation:\n",
              "      spin 1s steps(1) infinite;\n",
              "  }\n",
              "\n",
              "  @keyframes spin {\n",
              "    0% {\n",
              "      border-color: transparent;\n",
              "      border-bottom-color: var(--fill-color);\n",
              "      border-left-color: var(--fill-color);\n",
              "    }\n",
              "    20% {\n",
              "      border-color: transparent;\n",
              "      border-left-color: var(--fill-color);\n",
              "      border-top-color: var(--fill-color);\n",
              "    }\n",
              "    30% {\n",
              "      border-color: transparent;\n",
              "      border-left-color: var(--fill-color);\n",
              "      border-top-color: var(--fill-color);\n",
              "      border-right-color: var(--fill-color);\n",
              "    }\n",
              "    40% {\n",
              "      border-color: transparent;\n",
              "      border-right-color: var(--fill-color);\n",
              "      border-top-color: var(--fill-color);\n",
              "    }\n",
              "    60% {\n",
              "      border-color: transparent;\n",
              "      border-right-color: var(--fill-color);\n",
              "    }\n",
              "    80% {\n",
              "      border-color: transparent;\n",
              "      border-right-color: var(--fill-color);\n",
              "      border-bottom-color: var(--fill-color);\n",
              "    }\n",
              "    90% {\n",
              "      border-color: transparent;\n",
              "      border-bottom-color: var(--fill-color);\n",
              "    }\n",
              "  }\n",
              "</style>\n",
              "\n",
              "  <script>\n",
              "    async function quickchart(key) {\n",
              "      const quickchartButtonEl =\n",
              "        document.querySelector('#' + key + ' button');\n",
              "      quickchartButtonEl.disabled = true;  // To prevent multiple clicks.\n",
              "      quickchartButtonEl.classList.add('colab-df-spinner');\n",
              "      try {\n",
              "        const charts = await google.colab.kernel.invokeFunction(\n",
              "            'suggestCharts', [key], {});\n",
              "      } catch (error) {\n",
              "        console.error('Error during call to suggestCharts:', error);\n",
              "      }\n",
              "      quickchartButtonEl.classList.remove('colab-df-spinner');\n",
              "      quickchartButtonEl.classList.add('colab-df-quickchart-complete');\n",
              "    }\n",
              "    (() => {\n",
              "      let quickchartButtonEl =\n",
              "        document.querySelector('#df-49f226db-2ddc-4c7f-b37e-caed1706921a button');\n",
              "      quickchartButtonEl.style.display =\n",
              "        google.colab.kernel.accessAllowed ? 'block' : 'none';\n",
              "    })();\n",
              "  </script>\n",
              "</div>\n",
              "\n",
              "    </div>\n",
              "  </div>\n"
            ],
            "application/vnd.google.colaboratory.intrinsic+json": {
              "type": "dataframe",
              "variable_name": "final_output",
              "summary": "{\n  \"name\": \"final_output\",\n  \"rows\": 180,\n  \"fields\": [\n    {\n      \"column\": \"Test\",\n      \"properties\": {\n        \"dtype\": \"number\",\n        \"std\": 71622.90247830653,\n        \"min\": 52500.0,\n        \"max\": 465000.0,\n        \"num_unique_values\": 150,\n        \"samples\": [\n          135000.0,\n          99900.0,\n          230000.0\n        ],\n        \"semantic_type\": \"\",\n        \"description\": \"\"\n      }\n    },\n    {\n      \"column\": \"Prediction\",\n      \"properties\": {\n        \"dtype\": \"number\",\n        \"std\": 75409.8299114662,\n        \"min\": 32952.15234375,\n        \"max\": 436915.78125,\n        \"num_unique_values\": 180,\n        \"samples\": [\n          82523.15625,\n          92264.2265625,\n          136342.0625\n        ],\n        \"semantic_type\": \"\",\n        \"description\": \"\"\n      }\n    },\n    {\n      \"column\": \"Difference\",\n      \"properties\": {\n        \"dtype\": \"number\",\n        \"std\": 43488.415223688746,\n        \"min\": -276915.78125,\n        \"max\": 145771.25,\n        \"num_unique_values\": 180,\n        \"samples\": [\n          17376.84375,\n          27235.7734375,\n          3657.9375\n        ],\n        \"semantic_type\": \"\",\n        \"description\": \"\"\n      }\n    }\n  ]\n}"
            }
          },
          "metadata": {},
          "execution_count": 82
        }
      ]
    },
    {
      "cell_type": "code",
      "source": [
        "### Saving the Model\n",
        "### Save the Model\n",
        "torch.save(model,'HousePrice.pt')"
      ],
      "metadata": {
        "id": "95s5u_MxD_Aq"
      },
      "execution_count": null,
      "outputs": []
    },
    {
      "cell_type": "code",
      "source": [
        "torch.save(model.state_dict(),'HouseWeights.pt')"
      ],
      "metadata": {
        "id": "VBJb3zwcEK2V"
      },
      "execution_count": null,
      "outputs": []
    },
    {
      "cell_type": "code",
      "source": [
        "### Loading the saved model\n",
        "embs_size=[(15,8),(5,3),(2,1),(4,2)]\n",
        "model1=FeedForwardNN(embs_size,5,1,[100,50],p=0.4)"
      ],
      "metadata": {
        "id": "aEJDmvU6ET4n"
      },
      "execution_count": null,
      "outputs": []
    },
    {
      "cell_type": "code",
      "source": [
        "model1.load_state_dict(torch.load('HouseWeights.pt'))"
      ],
      "metadata": {
        "colab": {
          "base_uri": "https://localhost:8080/"
        },
        "id": "H-jrf2vnEp09",
        "outputId": "ff36b02c-14cd-48ae-b00b-b43e086cc6cb"
      },
      "execution_count": null,
      "outputs": [
        {
          "output_type": "execute_result",
          "data": {
            "text/plain": [
              "<All keys matched successfully>"
            ]
          },
          "metadata": {},
          "execution_count": 87
        }
      ]
    },
    {
      "cell_type": "code",
      "source": [
        "model1.eval()"
      ],
      "metadata": {
        "colab": {
          "base_uri": "https://localhost:8080/"
        },
        "id": "BfS_2MvYEzXm",
        "outputId": "d2440432-36e6-49cb-ec04-d11f34f013e2"
      },
      "execution_count": null,
      "outputs": [
        {
          "output_type": "execute_result",
          "data": {
            "text/plain": [
              "FeedForwardNN(\n",
              "  (embeds): ModuleList(\n",
              "    (0): Embedding(15, 8)\n",
              "    (1): Embedding(5, 3)\n",
              "    (2): Embedding(2, 1)\n",
              "    (3): Embedding(4, 2)\n",
              "  )\n",
              "  (emb_drop): Dropout(p=0.4, inplace=False)\n",
              "  (bn_cont): BatchNorm1d(5, eps=1e-05, momentum=0.1, affine=True, track_running_stats=True)\n",
              "  (layers): Sequential(\n",
              "    (0): Linear(in_features=19, out_features=100, bias=True)\n",
              "    (1): ReLU(inplace=True)\n",
              "    (2): BatchNorm1d(100, eps=1e-05, momentum=0.1, affine=True, track_running_stats=True)\n",
              "    (3): Dropout(p=0.4, inplace=False)\n",
              "    (4): Linear(in_features=100, out_features=50, bias=True)\n",
              "    (5): ReLU(inplace=True)\n",
              "    (6): BatchNorm1d(50, eps=1e-05, momentum=0.1, affine=True, track_running_stats=True)\n",
              "    (7): Dropout(p=0.4, inplace=False)\n",
              "    (8): Linear(in_features=50, out_features=1, bias=True)\n",
              "  )\n",
              ")"
            ]
          },
          "metadata": {},
          "execution_count": 88
        }
      ]
    },
    {
      "cell_type": "code",
      "source": [],
      "metadata": {
        "id": "B5rDoIoOE2Gq"
      },
      "execution_count": null,
      "outputs": []
    }
  ]
}